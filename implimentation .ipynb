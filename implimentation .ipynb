{
 "cells": [
  {
   "cell_type": "code",
   "execution_count": 1,
   "id": "681b74a0",
   "metadata": {},
   "outputs": [
    {
     "name": "stdout",
     "output_type": "stream",
     "text": [
      "Requirement already satisfied: transformers in c:\\users\\athir\\anaconda3\\lib\\site-packages (4.33.1)\n",
      "Requirement already satisfied: datasets in c:\\users\\athir\\anaconda3\\lib\\site-packages (2.14.5)\n",
      "Requirement already satisfied: pyyaml>=5.1 in c:\\users\\athir\\anaconda3\\lib\\site-packages (from transformers) (6.0)\n",
      "Requirement already satisfied: numpy>=1.17 in c:\\users\\athir\\anaconda3\\lib\\site-packages (from transformers) (1.22.4)\n",
      "Requirement already satisfied: tqdm>=4.27 in c:\\users\\athir\\anaconda3\\lib\\site-packages (from transformers) (4.64.0)\n",
      "Requirement already satisfied: safetensors>=0.3.1 in c:\\users\\athir\\anaconda3\\lib\\site-packages (from transformers) (0.3.3)\n",
      "Requirement already satisfied: filelock in c:\\users\\athir\\anaconda3\\lib\\site-packages (from transformers) (3.6.0)\n",
      "Requirement already satisfied: regex!=2019.12.17 in c:\\users\\athir\\anaconda3\\lib\\site-packages (from transformers) (2022.3.15)\n",
      "Requirement already satisfied: requests in c:\\users\\athir\\anaconda3\\lib\\site-packages (from transformers) (2.27.1)\n",
      "Requirement already satisfied: tokenizers!=0.11.3,<0.14,>=0.11.1 in c:\\users\\athir\\anaconda3\\lib\\site-packages (from transformers) (0.13.3)\n",
      "Requirement already satisfied: huggingface-hub<1.0,>=0.15.1 in c:\\users\\athir\\anaconda3\\lib\\site-packages (from transformers) (0.16.4)\n",
      "Requirement already satisfied: packaging>=20.0 in c:\\users\\athir\\anaconda3\\lib\\site-packages (from transformers) (21.3)\n",
      "Requirement already satisfied: dill<0.3.8,>=0.3.0 in c:\\users\\athir\\anaconda3\\lib\\site-packages (from datasets) (0.3.7)\n",
      "Requirement already satisfied: xxhash in c:\\users\\athir\\anaconda3\\lib\\site-packages (from datasets) (3.3.0)\n",
      "Requirement already satisfied: fsspec[http]<2023.9.0,>=2023.1.0 in c:\\users\\athir\\anaconda3\\lib\\site-packages (from datasets) (2023.6.0)\n",
      "Requirement already satisfied: multiprocess in c:\\users\\athir\\anaconda3\\lib\\site-packages (from datasets) (0.70.15)\n",
      "Requirement already satisfied: aiohttp in c:\\users\\athir\\anaconda3\\lib\\site-packages (from datasets) (3.8.1)\n",
      "Requirement already satisfied: pyarrow>=8.0.0 in c:\\users\\athir\\anaconda3\\lib\\site-packages (from datasets) (13.0.0)\n",
      "Requirement already satisfied: pandas in c:\\users\\athir\\anaconda3\\lib\\site-packages (from datasets) (1.4.2)\n",
      "Requirement already satisfied: yarl<2.0,>=1.0 in c:\\users\\athir\\anaconda3\\lib\\site-packages (from aiohttp->datasets) (1.6.3)\n",
      "Requirement already satisfied: attrs>=17.3.0 in c:\\users\\athir\\anaconda3\\lib\\site-packages (from aiohttp->datasets) (21.4.0)\n",
      "Requirement already satisfied: charset-normalizer<3.0,>=2.0 in c:\\users\\athir\\anaconda3\\lib\\site-packages (from aiohttp->datasets) (2.0.4)\n",
      "Requirement already satisfied: async-timeout<5.0,>=4.0.0a3 in c:\\users\\athir\\anaconda3\\lib\\site-packages (from aiohttp->datasets) (4.0.1)\n",
      "Requirement already satisfied: aiosignal>=1.1.2 in c:\\users\\athir\\anaconda3\\lib\\site-packages (from aiohttp->datasets) (1.2.0)\n",
      "Requirement already satisfied: frozenlist>=1.1.1 in c:\\users\\athir\\anaconda3\\lib\\site-packages (from aiohttp->datasets) (1.2.0)\n",
      "Requirement already satisfied: multidict<7.0,>=4.5 in c:\\users\\athir\\anaconda3\\lib\\site-packages (from aiohttp->datasets) (5.1.0)\n",
      "Requirement already satisfied: typing-extensions>=3.6.5 in c:\\users\\athir\\anaconda3\\lib\\site-packages (from async-timeout<5.0,>=4.0.0a3->aiohttp->datasets) (4.8.0)\n",
      "Requirement already satisfied: pyparsing!=3.0.5,>=2.0.2 in c:\\users\\athir\\anaconda3\\lib\\site-packages (from packaging>=20.0->transformers) (3.0.4)\n",
      "Requirement already satisfied: urllib3<1.27,>=1.21.1 in c:\\users\\athir\\anaconda3\\lib\\site-packages (from requests->transformers) (1.26.9)\n",
      "Requirement already satisfied: idna<4,>=2.5 in c:\\users\\athir\\anaconda3\\lib\\site-packages (from requests->transformers) (3.3)\n",
      "Requirement already satisfied: certifi>=2017.4.17 in c:\\users\\athir\\anaconda3\\lib\\site-packages (from requests->transformers) (2021.10.8)\n",
      "Requirement already satisfied: colorama in c:\\users\\athir\\anaconda3\\lib\\site-packages (from tqdm>=4.27->transformers) (0.4.6)\n",
      "Requirement already satisfied: pytz>=2020.1 in c:\\users\\athir\\anaconda3\\lib\\site-packages (from pandas->datasets) (2021.3)\n",
      "Requirement already satisfied: python-dateutil>=2.8.1 in c:\\users\\athir\\anaconda3\\lib\\site-packages (from pandas->datasets) (2.8.2)\n",
      "Requirement already satisfied: six>=1.5 in c:\\users\\athir\\anaconda3\\lib\\site-packages (from python-dateutil>=2.8.1->pandas->datasets) (1.16.0)\n",
      "Note: you may need to restart the kernel to use updated packages.\n"
     ]
    }
   ],
   "source": [
    "pip install transformers datasets\n"
   ]
  },
  {
   "cell_type": "code",
   "execution_count": 2,
   "id": "1aa95cec",
   "metadata": {},
   "outputs": [
    {
     "name": "stdout",
     "output_type": "stream",
     "text": [
      "Requirement already satisfied: rouge-score in c:\\users\\athir\\anaconda3\\lib\\site-packages (0.1.2)\n",
      "Requirement already satisfied: six>=1.14.0 in c:\\users\\athir\\anaconda3\\lib\\site-packages (from rouge-score) (1.16.0)\n",
      "Requirement already satisfied: absl-py in c:\\users\\athir\\anaconda3\\lib\\site-packages (from rouge-score) (1.4.0)\n",
      "Requirement already satisfied: nltk in c:\\users\\athir\\anaconda3\\lib\\site-packages (from rouge-score) (3.7)\n",
      "Requirement already satisfied: numpy in c:\\users\\athir\\anaconda3\\lib\\site-packages (from rouge-score) (1.22.4)\n",
      "Requirement already satisfied: tqdm in c:\\users\\athir\\anaconda3\\lib\\site-packages (from nltk->rouge-score) (4.64.0)\n",
      "Requirement already satisfied: regex>=2021.8.3 in c:\\users\\athir\\anaconda3\\lib\\site-packages (from nltk->rouge-score) (2022.3.15)\n",
      "Requirement already satisfied: click in c:\\users\\athir\\anaconda3\\lib\\site-packages (from nltk->rouge-score) (8.0.4)\n",
      "Requirement already satisfied: joblib in c:\\users\\athir\\anaconda3\\lib\\site-packages (from nltk->rouge-score) (1.3.2)\n",
      "Requirement already satisfied: colorama in c:\\users\\athir\\anaconda3\\lib\\site-packages (from click->nltk->rouge-score) (0.4.6)\n",
      "Note: you may need to restart the kernel to use updated packages.\n"
     ]
    }
   ],
   "source": [
    "pip install rouge-score"
   ]
  },
  {
   "cell_type": "code",
   "execution_count": 3,
   "id": "9746f361",
   "metadata": {},
   "outputs": [
    {
     "name": "stdout",
     "output_type": "stream",
     "text": [
      "Requirement already satisfied: rouge in c:\\users\\athir\\anaconda3\\lib\\site-packages (1.0.1)\n",
      "Requirement already satisfied: six in c:\\users\\athir\\anaconda3\\lib\\site-packages (from rouge) (1.16.0)\n"
     ]
    }
   ],
   "source": [
    "!pip install rouge"
   ]
  },
  {
   "cell_type": "code",
   "execution_count": 4,
   "id": "1129c028",
   "metadata": {},
   "outputs": [],
   "source": [
    "import random\n",
    "import numpy as np\n",
    "from transformers import pipeline\n",
    "import pandas as pd\n",
    "\n",
    "from rouge import Rouge\n",
    "\n",
    "# Initialize the ROUGE scorer\n",
    "#rouge = Rouge()"
   ]
  },
  {
   "cell_type": "code",
   "execution_count": 5,
   "id": "cf0e1c1f",
   "metadata": {},
   "outputs": [
    {
     "name": "stdout",
     "output_type": "stream",
     "text": [
      "Requirement already satisfied: datasets in c:\\users\\athir\\anaconda3\\lib\\site-packages (2.14.5)\n",
      "Requirement already satisfied: numpy>=1.17 in c:\\users\\athir\\anaconda3\\lib\\site-packages (from datasets) (1.22.4)\n",
      "Requirement already satisfied: pandas in c:\\users\\athir\\anaconda3\\lib\\site-packages (from datasets) (1.4.2)\n",
      "Requirement already satisfied: multiprocess in c:\\users\\athir\\anaconda3\\lib\\site-packages (from datasets) (0.70.15)\n",
      "Requirement already satisfied: packaging in c:\\users\\athir\\anaconda3\\lib\\site-packages (from datasets) (21.3)\n",
      "Requirement already satisfied: dill<0.3.8,>=0.3.0 in c:\\users\\athir\\anaconda3\\lib\\site-packages (from datasets) (0.3.7)\n",
      "Requirement already satisfied: aiohttp in c:\\users\\athir\\anaconda3\\lib\\site-packages (from datasets) (3.8.1)\n",
      "Requirement already satisfied: huggingface-hub<1.0.0,>=0.14.0 in c:\\users\\athir\\anaconda3\\lib\\site-packages (from datasets) (0.16.4)\n",
      "Requirement already satisfied: xxhash in c:\\users\\athir\\anaconda3\\lib\\site-packages (from datasets) (3.3.0)\n",
      "Requirement already satisfied: pyyaml>=5.1 in c:\\users\\athir\\anaconda3\\lib\\site-packages (from datasets) (6.0)\n",
      "Requirement already satisfied: requests>=2.19.0 in c:\\users\\athir\\anaconda3\\lib\\site-packages (from datasets) (2.27.1)\n",
      "Requirement already satisfied: pyarrow>=8.0.0 in c:\\users\\athir\\anaconda3\\lib\\site-packages (from datasets) (13.0.0)\n",
      "Requirement already satisfied: fsspec[http]<2023.9.0,>=2023.1.0 in c:\\users\\athir\\anaconda3\\lib\\site-packages (from datasets) (2023.6.0)\n",
      "Requirement already satisfied: tqdm>=4.62.1 in c:\\users\\athir\\anaconda3\\lib\\site-packages (from datasets) (4.64.0)\n",
      "Requirement already satisfied: async-timeout<5.0,>=4.0.0a3 in c:\\users\\athir\\anaconda3\\lib\\site-packages (from aiohttp->datasets) (4.0.1)\n",
      "Requirement already satisfied: frozenlist>=1.1.1 in c:\\users\\athir\\anaconda3\\lib\\site-packages (from aiohttp->datasets) (1.2.0)\n",
      "Requirement already satisfied: aiosignal>=1.1.2 in c:\\users\\athir\\anaconda3\\lib\\site-packages (from aiohttp->datasets) (1.2.0)\n",
      "Requirement already satisfied: yarl<2.0,>=1.0 in c:\\users\\athir\\anaconda3\\lib\\site-packages (from aiohttp->datasets) (1.6.3)\n",
      "Requirement already satisfied: attrs>=17.3.0 in c:\\users\\athir\\anaconda3\\lib\\site-packages (from aiohttp->datasets) (21.4.0)\n",
      "Requirement already satisfied: charset-normalizer<3.0,>=2.0 in c:\\users\\athir\\anaconda3\\lib\\site-packages (from aiohttp->datasets) (2.0.4)\n",
      "Requirement already satisfied: multidict<7.0,>=4.5 in c:\\users\\athir\\anaconda3\\lib\\site-packages (from aiohttp->datasets) (5.1.0)\n",
      "Requirement already satisfied: typing-extensions>=3.6.5 in c:\\users\\athir\\anaconda3\\lib\\site-packages (from async-timeout<5.0,>=4.0.0a3->aiohttp->datasets) (4.8.0)\n",
      "Requirement already satisfied: filelock in c:\\users\\athir\\anaconda3\\lib\\site-packages (from huggingface-hub<1.0.0,>=0.14.0->datasets) (3.6.0)\n",
      "Requirement already satisfied: pyparsing!=3.0.5,>=2.0.2 in c:\\users\\athir\\anaconda3\\lib\\site-packages (from packaging->datasets) (3.0.4)\n",
      "Note: you may need to restart the kernel to use updated packages.Requirement already satisfied: urllib3<1.27,>=1.21.1 in c:\\users\\athir\\anaconda3\\lib\\site-packages (from requests>=2.19.0->datasets) (1.26.9)\n",
      "\n",
      "Requirement already satisfied: idna<4,>=2.5 in c:\\users\\athir\\anaconda3\\lib\\site-packages (from requests>=2.19.0->datasets) (3.3)\n",
      "Requirement already satisfied: certifi>=2017.4.17 in c:\\users\\athir\\anaconda3\\lib\\site-packages (from requests>=2.19.0->datasets) (2021.10.8)\n",
      "Requirement already satisfied: colorama in c:\\users\\athir\\anaconda3\\lib\\site-packages (from tqdm>=4.62.1->datasets) (0.4.6)\n",
      "Requirement already satisfied: python-dateutil>=2.8.1 in c:\\users\\athir\\anaconda3\\lib\\site-packages (from pandas->datasets) (2.8.2)\n",
      "Requirement already satisfied: pytz>=2020.1 in c:\\users\\athir\\anaconda3\\lib\\site-packages (from pandas->datasets) (2021.3)\n",
      "Requirement already satisfied: six>=1.5 in c:\\users\\athir\\anaconda3\\lib\\site-packages (from python-dateutil>=2.8.1->pandas->datasets) (1.16.0)\n"
     ]
    }
   ],
   "source": [
    "pip install datasets\n"
   ]
  },
  {
   "cell_type": "code",
   "execution_count": 6,
   "id": "5022e037",
   "metadata": {},
   "outputs": [],
   "source": [
    "from datasets import load_dataset\n",
    "\n",
    "# Load the CNN/Daily Mail dataset\n",
    "dataset = load_dataset('cnn_dailymail', '3.0.0')"
   ]
  },
  {
   "cell_type": "code",
   "execution_count": 7,
   "id": "4b627b1c",
   "metadata": {},
   "outputs": [
    {
     "name": "stdout",
     "output_type": "stream",
     "text": [
      "(287113, 3)\n",
      "{'article': 'LONDON, England (Reuters) -- Harry Potter star Daniel Radcliffe gains access to a reported £20 million ($41.1 million) fortune as he turns 18 on Monday, but he insists the money won\\'t cast a spell on him. Daniel Radcliffe as Harry Potter in \"Harry Potter and the Order of the Phoenix\" To the disappointment of gossip columnists around the world, the young actor says he has no plans to fritter his cash away on fast cars, drink and celebrity parties. \"I don\\'t plan to be one of those people who, as soon as they turn 18, suddenly buy themselves a massive sports car collection or something similar,\" he told an Australian interviewer earlier this month. \"I don\\'t think I\\'ll be particularly extravagant. \"The things I like buying are things that cost about 10 pounds -- books and CDs and DVDs.\" At 18, Radcliffe will be able to gamble in a casino, buy a drink in a pub or see the horror film \"Hostel: Part II,\" currently six places below his number one movie on the UK box office chart. Details of how he\\'ll mark his landmark birthday are under wraps. His agent and publicist had no comment on his plans. \"I\\'ll definitely have some sort of party,\" he said in an interview. \"Hopefully none of you will be reading about it.\" Radcliffe\\'s earnings from the first five Potter films have been held in a trust fund which he has not been able to touch. Despite his growing fame and riches, the actor says he is keeping his feet firmly on the ground. \"People are always looking to say \\'kid star goes off the rails,\\'\" he told reporters last month. \"But I try very hard not to go that way because it would be too easy for them.\" His latest outing as the boy wizard in \"Harry Potter and the Order of the Phoenix\" is breaking records on both sides of the Atlantic and he will reprise the role in the last two films.  Watch I-Reporter give her review of Potter\\'s latest » . There is life beyond Potter, however. The Londoner has filmed a TV movie called \"My Boy Jack,\" about author Rudyard Kipling and his son, due for release later this year. He will also appear in \"December Boys,\" an Australian film about four boys who escape an orphanage. Earlier this year, he made his stage debut playing a tortured teenager in Peter Shaffer\\'s \"Equus.\" Meanwhile, he is braced for even closer media scrutiny now that he\\'s legally an adult: \"I just think I\\'m going to be more sort of fair game,\" he told Reuters. E-mail to a friend . Copyright 2007 Reuters. All rights reserved.This material may not be published, broadcast, rewritten, or redistributed.', 'highlights': \"Harry Potter star Daniel Radcliffe gets £20M fortune as he turns 18 Monday .\\nYoung actor says he has no plans to fritter his cash away .\\nRadcliffe's earnings from first five Potter films have been held in trust fund .\", 'id': '42c027e4ff9730fbb3de84c1af0d2c506e41c3e4'}\n"
     ]
    }
   ],
   "source": [
    "# Analyze the dataset\n",
    "print(dataset['train'].shape)  # Display the number of training samples\n",
    "print(dataset['train'][0])  # Display the first training sample"
   ]
  },
  {
   "cell_type": "code",
   "execution_count": 8,
   "id": "f403b0f9",
   "metadata": {},
   "outputs": [],
   "source": [
    "# Extract articles and summaries\n",
    "articles = [item['article'] for item in dataset['train']]\n",
    "reference_summaries = [item['highlights'] for item in dataset['train']]"
   ]
  },
  {
   "cell_type": "code",
   "execution_count": 9,
   "id": "2fc2430e",
   "metadata": {},
   "outputs": [],
   "source": [
    "from sklearn.feature_extraction.text import TfidfVectorizer\n",
    "import numpy as np\n",
    "\n",
    "def lead_based_summarization(article, num_sentences=3):\n",
    "    \"\"\"Return the first few sentences of the article.\"\"\"\n",
    "    return ' '.join(article.split('.')[:num_sentences]) + '.'\n",
    "\n",
    "def keyword_based_summarization(article, num_sentences=3):\n",
    "    \"\"\"Return sentences containing the most frequent keywords.\"\"\"\n",
    "    words = [word for word in article.split() if word.isalnum()]\n",
    "    most_common_words = set(sorted(words, key=words.count, reverse=True)[:10])\n",
    "    sentences = article.split('.')\n",
    "    top_sentences = [sentence for sentence in sentences if any(word in sentence for word in most_common_words)]\n",
    "    return '. '.join(top_sentences[:num_sentences]) + '.'\n",
    "\n",
    "def sentence_length_summarization(article, num_sentences=3):\n",
    "    \"\"\"Return the longest sentences.\"\"\"\n",
    "    sentences = article.split('.')\n",
    "    sorted_sentences = sorted(sentences, key=len, reverse=True)\n",
    "    return '. '.join(sorted_sentences[:num_sentences]) + '.'\n",
    "\n",
    "def positional_summarization(article, num_sentences=3):\n",
    "    \"\"\"Return sentences from the beginning, middle, and end.\"\"\"\n",
    "    sentences = article.split('.')\n",
    "    total_sentences = len(sentences)\n",
    "    start = sentences[0]\n",
    "    middle = sentences[total_sentences // 2]\n",
    "    end = sentences[-1]\n",
    "    return '. '.join([start, middle, end]) + '.'\n",
    "\n",
    "def tfidf_summarization(article, num_sentences=3):\n",
    "    \"\"\"Return sentences with the highest average TF-IDF scores.\"\"\"\n",
    "    vectorizer = TfidfVectorizer()\n",
    "    sentences = article.split('.')\n",
    "    tfidf_matrix = vectorizer.fit_transform(sentences)\n",
    "    avg_tfidf_scores = np.mean(tfidf_matrix.toarray(), axis=1)\n",
    "    ranked_sentences = [sentences[i] for i in np.argsort(avg_tfidf_scores, axis=0)[-num_sentences:]]\n",
    "    return '. '.join(ranked_sentences) + '.'\n"
   ]
  },
  {
   "cell_type": "code",
   "execution_count": 10,
   "id": "4548e544",
   "metadata": {},
   "outputs": [
    {
     "name": "stdout",
     "output_type": "stream",
     "text": [
      "Requirement already satisfied: rouge in c:\\users\\athir\\anaconda3\\lib\\site-packages (1.0.1)\n",
      "Requirement already satisfied: six in c:\\users\\athir\\anaconda3\\lib\\site-packages (from rouge) (1.16.0)\n"
     ]
    }
   ],
   "source": [
    "!pip install rouge\n"
   ]
  },
  {
   "cell_type": "code",
   "execution_count": 11,
   "id": "a27f3b57",
   "metadata": {},
   "outputs": [
    {
     "name": "stdout",
     "output_type": "stream",
     "text": [
      "287113\n",
      "287113\n"
     ]
    }
   ],
   "source": [
    "print(len(articles))\n",
    "print(len(reference_summaries))\n"
   ]
  },
  {
   "cell_type": "code",
   "execution_count": 12,
   "id": "c810ef88",
   "metadata": {},
   "outputs": [
    {
     "name": "stdout",
     "output_type": "stream",
     "text": [
      "Technique: lead_based_summarization\n",
      "ROUGE-1: 0.2841\n",
      "ROUGE-2: 0.1041\n",
      "ROUGE-L: 0.2413\n",
      "--------------------------------------------------\n",
      "Technique: keyword_based_summarization\n",
      "ROUGE-1: 0.2725\n",
      "ROUGE-2: 0.0903\n",
      "ROUGE-L: 0.2477\n",
      "--------------------------------------------------\n",
      "Technique: sentence_length_summarization\n",
      "ROUGE-1: 0.2157\n",
      "ROUGE-2: 0.0586\n",
      "ROUGE-L: 0.1975\n",
      "--------------------------------------------------\n",
      "Technique: positional_summarization\n",
      "ROUGE-1: 0.2250\n",
      "ROUGE-2: 0.0682\n",
      "ROUGE-L: 0.2021\n",
      "--------------------------------------------------\n",
      "Technique: tfidf_summarization\n",
      "ROUGE-1: 0.2025\n",
      "ROUGE-2: 0.0517\n",
      "ROUGE-L: 0.1847\n",
      "--------------------------------------------------\n"
     ]
    }
   ],
   "source": [
    "from rouge import Rouge\n",
    "\n",
    "# Placeholder for results\n",
    "results = {}\n",
    "\n",
    "# List of techniques\n",
    "techniques = [\n",
    "    lead_based_summarization, \n",
    "    keyword_based_summarization,\n",
    "    sentence_length_summarization,\n",
    "    positional_summarization,\n",
    "    tfidf_summarization\n",
    "]\n",
    "\n",
    "# Initialize Rouge evaluator\n",
    "rouge = Rouge()\n",
    "\n",
    "# Evaluate each technique on the first 100 articles for faster execution\n",
    "for technique in techniques:\n",
    "    generated_summaries = [technique(article) for article in articles[:100]]\n",
    "    scores = rouge.get_scores(generated_summaries, reference_summaries[:100], avg=True)\n",
    "    \n",
    "    # Store the results\n",
    "    results[technique.__name__] = {\n",
    "        'rouge-1': scores['rouge-1']['f'],\n",
    "        'rouge-2': scores['rouge-2']['f'],\n",
    "        'rouge-l': scores['rouge-l']['f']\n",
    "    }\n",
    "\n",
    "# Print the results\n",
    "for technique, score in results.items():\n",
    "    print(f\"Technique: {technique}\")\n",
    "    print(f\"ROUGE-1: {score['rouge-1']:.4f}\")\n",
    "    print(f\"ROUGE-2: {score['rouge-2']:.4f}\")\n",
    "    print(f\"ROUGE-L: {score['rouge-l']:.4f}\")\n",
    "    print('-' * 50)\n"
   ]
  },
  {
   "cell_type": "code",
   "execution_count": 13,
   "id": "ede09174",
   "metadata": {},
   "outputs": [],
   "source": [
    "def voting_based_ensemble(base_summaries):\n",
    "    # Count the occurrence of each sentence\n",
    "    sentence_counts = {}\n",
    "    for summary in base_summaries:\n",
    "        for sentence in summary.split('.'):\n",
    "            sentence_counts[sentence] = sentence_counts.get(sentence, 0) + 1\n",
    "    \n",
    "    # Rank sentences based on their count\n",
    "    ranked_sentences = sorted(sentence_counts.items(), key=lambda x: x[1], reverse=True)\n",
    "    \n",
    "    # Extract top N sentences\n",
    "    N = 3\n",
    "    top_sentences = [ranked_sentences[i][0] for i in range(N)]\n",
    "    return ' '.join(top_sentences)\n",
    "\n",
    "def ranked_list_ensemble(base_summaries):\n",
    "    # Rank each sentence based on its position\n",
    "    sentence_ranks = {} \n",
    "    for summary in base_summaries:\n",
    "        for idx, sentence in enumerate(summary.split('.')):\n",
    "            if sentence in sentence_ranks:\n",
    "                sentence_ranks[sentence].append(idx)\n",
    "            else:\n",
    "                sentence_ranks[sentence] = [idx]\n",
    "    \n",
    "    # Compute average rank for each sentence\n",
    "    avg_ranks = {sentence: sum(ranks)/len(ranks) for sentence, ranks in sentence_ranks.items()}\n",
    "    \n",
    "    # Rank sentences based on their average rank\n",
    "    ranked_sentences = sorted(avg_ranks.items(), key=lambda x: x[1])\n",
    "    \n",
    "    # Extract top N sentences\n",
    "    N = 3\n",
    "    top_sentences = [ranked_sentences[i][0] for i in range(N)]\n",
    "    return ' '.join(top_sentences)\n"
   ]
  },
  {
   "cell_type": "code",
   "execution_count": 14,
   "id": "39a6579a",
   "metadata": {},
   "outputs": [],
   "source": [
    "import networkx as nx\n",
    "from sklearn.metrics.pairwise import cosine_similarity\n",
    "from sklearn.feature_extraction.text import TfidfVectorizer\n",
    "\n",
    "def simple_graph_based_ensemble(base_summaries):\n",
    "    # Combine all base summaries into a single text\n",
    "    combined_summary = ' '.join(base_summaries)\n",
    "    \n",
    "    # Split the combined summary into sentences\n",
    "    sentences = combined_summary.split('.')\n",
    "    \n",
    "    # Compute TF-IDF vectors for each sentence\n",
    "    vectorizer = TfidfVectorizer().fit_transform(sentences)\n",
    "    vectors = vectorizer.toarray()\n",
    "    \n",
    "    # Compute cosine similarity between sentences\n",
    "    cosine_matrix = cosine_similarity(vectors)\n",
    "    \n",
    "    # Create a graph and use cosine similarity as weights for edges\n",
    "    graph = nx.Graph()\n",
    "    for i in range(len(sentences)):\n",
    "        for j in range(len(sentences)):\n",
    "            if i != j:\n",
    "                graph.add_edge(i, j, weight=cosine_matrix[i][j])\n",
    "                \n",
    "    # Rank sentences based on their degree\n",
    "    scores = nx.degree(graph, weight='weight')\n",
    "    ranked_sentences = sorted(((scores[i], s) for i, s in enumerate(sentences)), reverse=True)\n",
    "    \n",
    "    # Extract top N sentences as the ensemble summary\n",
    "    N = 3\n",
    "    top_sentences = [ranked_sentences[i][1] for i in range(N)]\n",
    "    return ' '.join(top_sentences)\n"
   ]
  },
  {
   "cell_type": "code",
   "execution_count": 15,
   "id": "67c22027",
   "metadata": {},
   "outputs": [
    {
     "name": "stdout",
     "output_type": "stream",
     "text": [
      "Requirement already satisfied: networkx in c:\\users\\athir\\anaconda3\\lib\\site-packages (3.2.1)\n",
      "Requirement already satisfied: scipy in c:\\users\\athir\\anaconda3\\lib\\site-packages (1.11.3)\n",
      "Requirement already satisfied: numpy<1.28.0,>=1.21.6 in c:\\users\\athir\\anaconda3\\lib\\site-packages (from scipy) (1.22.4)\n",
      "Note: you may need to restart the kernel to use updated packages.\n"
     ]
    }
   ],
   "source": [
    "pip install --upgrade networkx scipy\n"
   ]
  },
  {
   "cell_type": "code",
   "execution_count": 16,
   "id": "1ac6c6c7",
   "metadata": {},
   "outputs": [],
   "source": [
    "import networkx as nx\n",
    "from sklearn.metrics.pairwise import cosine_similarity\n",
    "from sklearn.feature_extraction.text import TfidfVectorizer\n",
    "\n",
    "def centrality_based_ensemble(base_summaries):\n",
    "    # Combine all base summaries into a single text\n",
    "    combined_summary = ' '.join(base_summaries)\n",
    "    \n",
    "    # Split the combined summary into sentences\n",
    "    sentences = combined_summary.split('.')\n",
    "    \n",
    "    # Compute TF-IDF vectors for each sentence\n",
    "    vectorizer = TfidfVectorizer().fit_transform(sentences)\n",
    "    vectors = vectorizer.toarray()\n",
    "    \n",
    "    # Compute cosine similarity between sentences\n",
    "    cosine_matrix = cosine_similarity(vectors)\n",
    "    \n",
    "    # Create a graph and use cosine similarity as weights for edges\n",
    "    graph = nx.from_numpy_array(cosine_matrix)\n",
    "    \n",
    "    # Rank sentences based on their eigenvector centrality\n",
    "    centrality_scores = nx.eigenvector_centrality(graph, max_iter=1000, tol=1e-06)\n",
    "    ranked_sentences = sorted(((centrality_scores[i], s) for i, s in enumerate(sentences)), reverse=True)\n",
    "    \n",
    "    # Extract top N sentences as the ensemble summary\n",
    "    N = 3\n",
    "    top_sentences = [ranked_sentences[i][1] for i in range(N)]\n",
    "    return ' '.join(top_sentences)\n",
    "\n"
   ]
  },
  {
   "cell_type": "code",
   "execution_count": 17,
   "id": "d501ada4",
   "metadata": {},
   "outputs": [],
   "source": [
    "# Generate base summaries for each article:\n",
    "\n",
    "base_summaries_list = []\n",
    "\n",
    "for article in articles[:100]:  # Using the first 100 articles for faster execution\n",
    "    base_summaries = {\n",
    "        'lead_based': lead_based_summarization(article),\n",
    "        'keyword_based': keyword_based_summarization(article),\n",
    "        'sentence_length': sentence_length_summarization(article),\n",
    "        'positional': positional_summarization(article),\n",
    "        'tfidf': tfidf_summarization(article)\n",
    "    }\n",
    "    base_summaries_list.append(base_summaries)\n"
   ]
  },
  {
   "cell_type": "code",
   "execution_count": 18,
   "id": "39564c9d",
   "metadata": {},
   "outputs": [
    {
     "name": "stdout",
     "output_type": "stream",
     "text": [
      "Simple Graph-based Ensemble Method:\n",
      "ROUGE-1: 0.2675\n",
      "ROUGE-2: 0.0917\n",
      "ROUGE-L: 0.2521\n",
      "--------------------------------------------------\n",
      "Centrality-based Ensemble Method:\n",
      "ROUGE-1: 0.2828\n",
      "ROUGE-2: 0.0972\n",
      "ROUGE-L: 0.2632\n",
      "--------------------------------------------------\n",
      "Voting-based Ensemble Method:\n",
      "ROUGE-1: 0.2555\n",
      "ROUGE-2: 0.0812\n",
      "ROUGE-L: 0.2195\n",
      "--------------------------------------------------\n",
      "Ranked List Ensemble Method:\n",
      "ROUGE-1: 0.2624\n",
      "ROUGE-2: 0.0897\n",
      "ROUGE-L: 0.2348\n",
      "--------------------------------------------------\n"
     ]
    }
   ],
   "source": [
    "# Generate ensemble summaries:\n",
    "\n",
    "simple_graph_ensemble_summaries = [simple_graph_based_ensemble([base['lead_based'], base['keyword_based'], base['sentence_length'], base['positional'], base['tfidf']]) for base in base_summaries_list]\n",
    "centrality_ensemble_summaries = [centrality_based_ensemble([base['lead_based'], base['keyword_based'], base['sentence_length'], base['positional'], base['tfidf']]) for base in base_summaries_list]\n",
    "\n",
    "# Evaluate using ROUGE:\n",
    "\n",
    "from rouge import Rouge\n",
    "\n",
    "rouge = Rouge()\n",
    "\n",
    "# Evaluate Simple Graph-based Ensemble Summaries:\n",
    "simple_graph_scores = rouge.get_scores(simple_graph_ensemble_summaries, reference_summaries[:100], avg=True)\n",
    "print(\"Simple Graph-based Ensemble Method:\")\n",
    "print(f\"ROUGE-1: {simple_graph_scores['rouge-1']['f']:.4f}\")\n",
    "print(f\"ROUGE-2: {simple_graph_scores['rouge-2']['f']:.4f}\")\n",
    "print(f\"ROUGE-L: {simple_graph_scores['rouge-l']['f']:.4f}\")\n",
    "print('-' * 50)\n",
    "\n",
    "# Evaluate Centrality-based Ensemble Summaries:\n",
    "centrality_scores = rouge.get_scores(centrality_ensemble_summaries, reference_summaries[:100], avg=True)\n",
    "print(\"Centrality-based Ensemble Method:\")\n",
    "print(f\"ROUGE-1: {centrality_scores['rouge-1']['f']:.4f}\")\n",
    "print(f\"ROUGE-2: {centrality_scores['rouge-2']['f']:.4f}\")\n",
    "print(f\"ROUGE-L: {centrality_scores['rouge-l']['f']:.4f}\")\n",
    "print('-' * 50)\n",
    "# Generate ensemble summaries:\n",
    "\n",
    "voting_ensemble_summaries = [voting_based_ensemble([base['lead_based'], base['keyword_based'], base['sentence_length'], base['positional'], base['tfidf']]) for base in base_summaries_list]\n",
    "ranked_list_ensemble_summaries = [ranked_list_ensemble([base['lead_based'], base['keyword_based'], base['sentence_length'], base['positional'], base['tfidf']]) for base in base_summaries_list]\n",
    "\n",
    "# Evaluate using ROUGE:\n",
    "\n",
    "# ... [rest of the code remains the same]\n",
    "\n",
    "# Evaluate Voting-based Ensemble Summaries:\n",
    "voting_scores = rouge.get_scores(voting_ensemble_summaries, reference_summaries[:100], avg=True)\n",
    "print(\"Voting-based Ensemble Method:\")\n",
    "print(f\"ROUGE-1: {voting_scores['rouge-1']['f']:.4f}\")\n",
    "print(f\"ROUGE-2: {voting_scores['rouge-2']['f']:.4f}\")\n",
    "print(f\"ROUGE-L: {voting_scores['rouge-l']['f']:.4f}\")\n",
    "print('-' * 50)\n",
    "\n",
    "# Evaluate Ranked List Ensemble Summaries:\n",
    "ranked_list_scores = rouge.get_scores(ranked_list_ensemble_summaries, reference_summaries[:100], avg=True)\n",
    "print(\"Ranked List Ensemble Method:\")\n",
    "print(f\"ROUGE-1: {ranked_list_scores['rouge-1']['f']:.4f}\")\n",
    "print(f\"ROUGE-2: {ranked_list_scores['rouge-2']['f']:.4f}\")\n",
    "print(f\"ROUGE-L: {ranked_list_scores['rouge-l']['f']:.4f}\")\n",
    "print('-' * 50)\n"
   ]
  },
  {
   "cell_type": "code",
   "execution_count": 19,
   "id": "53058acb",
   "metadata": {},
   "outputs": [],
   "source": [
    "def generate_base_summaries(article):\n",
    "    return {\n",
    "        'lead_based': lead_based_summarization(article),\n",
    "        'keyword_based': keyword_based_summarization(article),\n",
    "        'sentence_length': sentence_length_summarization(article),\n",
    "        'positional': positional_summarization(article),\n",
    "        'tfidf': tfidf_summarization(article)\n",
    "    }\n"
   ]
  },
  {
   "cell_type": "code",
   "execution_count": 20,
   "id": "ac8239ff",
   "metadata": {},
   "outputs": [],
   "source": [
    "def generate_ensemble_summaries(base_summaries):\n",
    "    summaries = {\n",
    "        'voting_based': voting_based_ensemble(list(base_summaries.values())),\n",
    "        'ranked_list': ranked_list_ensemble(list(base_summaries.values())),\n",
    "        'simple_graph': simple_graph_based_ensemble(list(base_summaries.values())),\n",
    "        'centrality_based': centrality_based_ensemble(list(base_summaries.values()))\n",
    "    }\n",
    "    return summaries\n"
   ]
  },
  {
   "cell_type": "code",
   "execution_count": 21,
   "id": "5c4eb4ee",
   "metadata": {},
   "outputs": [],
   "source": [
    "from rouge import Rouge\n",
    "\n",
    "def evaluate_summaries(ensemble_summaries, reference_summary):\n",
    "    rouge = Rouge()\n",
    "    scores = {}\n",
    "    for method, summary in ensemble_summaries.items():\n",
    "        score = rouge.get_scores(summary, reference_summary, avg=True)\n",
    "        scores[method] = {\n",
    "            'ROUGE-1': score['rouge-1']['f'],\n",
    "            'ROUGE-2': score['rouge-2']['f'],\n",
    "            'ROUGE-L': score['rouge-l']['f']\n",
    "        }\n",
    "    return scores\n"
   ]
  },
  {
   "cell_type": "code",
   "execution_count": 22,
   "id": "8148c7bc",
   "metadata": {},
   "outputs": [],
   "source": [
    "# Assuming you have 1000 articles and summaries\n",
    "num_samples = 100  # You can adjust this number based on your needs\n",
    "\n",
    "sample_articles = articles[:num_samples]\n",
    "sample_references = reference_summaries[:num_samples]\n"
   ]
  },
  {
   "cell_type": "code",
   "execution_count": 43,
   "id": "784acdc3",
   "metadata": {
    "scrolled": false
   },
   "outputs": [],
   "source": [
    "test_scores = []\n",
    "\n",
    "for article, reference_summary in zip(sample_articles, sample_references):\n",
    "    base_summaries = generate_base_summaries(article)\n",
    "    ensemble_summaries = generate_ensemble_summaries(base_summaries)\n",
    "    scores = evaluate_summaries(ensemble_summaries, reference_summary)\n",
    "    test_scores.append(scores)\n",
    "\n",
    "#print(test_scores)\n"
   ]
  },
  {
   "cell_type": "code",
   "execution_count": 24,
   "id": "5519d630",
   "metadata": {},
   "outputs": [
    {
     "name": "stdout",
     "output_type": "stream",
     "text": [
      "[{'voting_based': {'ROUGE-1': 0.3333333287658593, 'ROUGE-2': 0.21052631140504782, 'ROUGE-L': 0.3137254856286044}, 'ranked_list': {'ROUGE-1': 0.4329896860537783, 'ROUGE-2': 0.31304347389640835, 'ROUGE-L': 0.4329896860537783}, 'simple_graph': {'ROUGE-1': 0.4329896860537783, 'ROUGE-2': 0.31304347389640835, 'ROUGE-L': 0.4329896860537783}, 'centrality_based': {'ROUGE-1': 0.4329896860537783, 'ROUGE-2': 0.31304347389640835, 'ROUGE-L': 0.4329896860537783}}, {'voting_based': {'ROUGE-1': 0.18947367930415523, 'ROUGE-2': 0.03773584414382407, 'ROUGE-L': 0.10526315298836587}, 'ranked_list': {'ROUGE-1': 0.2608695606291116, 'ROUGE-2': 0.11764705434688598, 'ROUGE-L': 0.13913043019432908}, 'simple_graph': {'ROUGE-1': 0.3023255764061656, 'ROUGE-2': 0.1386138564258408, 'ROUGE-L': 0.18604650663872377}, 'centrality_based': {'ROUGE-1': 0.3023255764061656, 'ROUGE-2': 0.1386138564258408, 'ROUGE-L': 0.18604650663872377}}, {'voting_based': {'ROUGE-1': 0.15789473184556801, 'ROUGE-2': 0.0, 'ROUGE-L': 0.13157894237188383}, 'ranked_list': {'ROUGE-1': 0.29824560965066177, 'ROUGE-2': 0.10218977694922494, 'ROUGE-L': 0.24561403070329338}, 'simple_graph': {'ROUGE-1': 0.30952380459467127, 'ROUGE-2': 0.12903225319458916, 'ROUGE-L': 0.2380952331660999}, 'centrality_based': {'ROUGE-1': 0.2616822384662416, 'ROUGE-2': 0.09448818472068964, 'ROUGE-L': 0.18691588332605477}}, {'voting_based': {'ROUGE-1': 0.24615384149585803, 'ROUGE-2': 0.029411760229239435, 'ROUGE-L': 0.24615384149585803}, 'ranked_list': {'ROUGE-1': 0.23404254938886376, 'ROUGE-2': 0.05504586822994718, 'ROUGE-L': 0.23404254938886376}, 'simple_graph': {'ROUGE-1': 0.2253521082007539, 'ROUGE-2': 0.02597402178444999, 'ROUGE-L': 0.2253521082007539}, 'centrality_based': {'ROUGE-1': 0.2253521082007539, 'ROUGE-2': 0.02597402178444999, 'ROUGE-L': 0.2253521082007539}}, {'voting_based': {'ROUGE-1': 0.24719100646383038, 'ROUGE-2': 0.06122448500416531, 'ROUGE-L': 0.20224718623911134}, 'ranked_list': {'ROUGE-1': 0.2752293534382629, 'ROUGE-2': 0.06249999576293974, 'ROUGE-L': 0.2568807295850518}, 'simple_graph': {'ROUGE-1': 0.14492753123293445, 'ROUGE-2': 0.025974020974870247, 'ROUGE-L': 0.14492753123293445}, 'centrality_based': {'ROUGE-1': 0.2631578897680056, 'ROUGE-2': 0.048192766102482736, 'ROUGE-L': 0.2631578897680056}}, {'voting_based': {'ROUGE-1': 0.058823524480969266, 'ROUGE-2': 0.0, 'ROUGE-L': 0.058823524480969266}, 'ranked_list': {'ROUGE-1': 0.11666666233888906, 'ROUGE-2': 0.0, 'ROUGE-L': 0.11666666233888906}, 'simple_graph': {'ROUGE-1': 0.09195401806843731, 'ROUGE-2': 0.0, 'ROUGE-L': 0.09195401806843731}, 'centrality_based': {'ROUGE-1': 0.09195401806843731, 'ROUGE-2': 0.0, 'ROUGE-L': 0.09195401806843731}}, {'voting_based': {'ROUGE-1': 0.11627906481070871, 'ROUGE-2': 0.0, 'ROUGE-L': 0.11627906481070871}, 'ranked_list': {'ROUGE-1': 0.21818181360495878, 'ROUGE-2': 0.029197075931589978, 'ROUGE-L': 0.1818181772413224}, 'simple_graph': {'ROUGE-1': 0.17999999524200014, 'ROUGE-2': 0.031249995488281904, 'ROUGE-L': 0.17999999524200014}, 'centrality_based': {'ROUGE-1': 0.19512194623141, 'ROUGE-2': 0.02040815831736896, 'ROUGE-L': 0.14634145842653198}}, {'voting_based': {'ROUGE-1': 0.24691357530864202, 'ROUGE-2': 0.0842105214404435, 'ROUGE-L': 0.24691357530864202}, 'ranked_list': {'ROUGE-1': 0.4090909042561984, 'ROUGE-2': 0.25242717971533607, 'ROUGE-L': 0.38636363152892567}, 'simple_graph': {'ROUGE-1': 0.36363635880165296, 'ROUGE-2': 0.23529411287966176, 'ROUGE-L': 0.36363635880165296}, 'centrality_based': {'ROUGE-1': 0.4494381974296175, 'ROUGE-2': 0.29126213117164673, 'ROUGE-L': 0.3820224670925388}}, {'voting_based': {'ROUGE-1': 0.3209876496570645, 'ROUGE-2': 0.021978017418187158, 'ROUGE-L': 0.17283950150891647}, 'ranked_list': {'ROUGE-1': 0.3296703252505736, 'ROUGE-2': 0.07547169389818464, 'ROUGE-L': 0.24175823733848575}, 'simple_graph': {'ROUGE-1': 0.3174603124716554, 'ROUGE-2': 0.029850741278682057, 'ROUGE-L': 0.3174603124716554}, 'centrality_based': {'ROUGE-1': 0.3733333285333334, 'ROUGE-2': 0.09411764236401408, 'ROUGE-L': 0.2933333285333334}}, {'voting_based': {'ROUGE-1': 0.0999999956125002, 'ROUGE-2': 0.0, 'ROUGE-L': 0.07499999561250026}, 'ranked_list': {'ROUGE-1': 0.1555555514469137, 'ROUGE-2': 0.0176991115012929, 'ROUGE-L': 0.1555555514469137}, 'simple_graph': {'ROUGE-1': 0.18421052181440453, 'ROUGE-2': 0.022988501556349027, 'ROUGE-L': 0.18421052181440453}, 'centrality_based': {'ROUGE-1': 0.18421052181440453, 'ROUGE-2': 0.022988501556349027, 'ROUGE-L': 0.18421052181440453}}, {'voting_based': {'ROUGE-1': 0.316831678913832, 'ROUGE-2': 0.11570247529813552, 'ROUGE-L': 0.27722771851779243}, 'ranked_list': {'ROUGE-1': 0.23943661630529658, 'ROUGE-2': 0.07650272921496623, 'ROUGE-L': 0.2112676022207896}, 'simple_graph': {'ROUGE-1': 0.2882882842626411, 'ROUGE-2': 0.1021897772902127, 'ROUGE-L': 0.234234230208587}, 'centrality_based': {'ROUGE-1': 0.2882882842626411, 'ROUGE-2': 0.10144927164881341, 'ROUGE-L': 0.270270266244623}}, {'voting_based': {'ROUGE-1': 0.09999999515312523, 'ROUGE-2': 0.0, 'ROUGE-L': 0.09999999515312523}, 'ranked_list': {'ROUGE-1': 0.14953270601449922, 'ROUGE-2': 0.0314960589993185, 'ROUGE-L': 0.14953270601449922}, 'simple_graph': {'ROUGE-1': 0.17721518500881284, 'ROUGE-2': 0.04347825615548256, 'ROUGE-L': 0.17721518500881284}, 'centrality_based': {'ROUGE-1': 0.17721518500881284, 'ROUGE-2': 0.04347825615548256, 'ROUGE-L': 0.17721518500881284}}, {'voting_based': {'ROUGE-1': 0.3913043431120038, 'ROUGE-2': 0.08080807623711893, 'ROUGE-L': 0.3043478213728734}, 'ranked_list': {'ROUGE-1': 0.32989690260389, 'ROUGE-2': 0.095238090793651, 'ROUGE-L': 0.30927834590285896}, 'simple_graph': {'ROUGE-1': 0.24242423744260802, 'ROUGE-2': 0.05882352441609039, 'ROUGE-L': 0.24242423744260802}, 'centrality_based': {'ROUGE-1': 0.4057970964503256, 'ROUGE-2': 0.109589036104335, 'ROUGE-L': 0.4057970964503256}}, {'voting_based': {'ROUGE-1': 0.24999999552812505, 'ROUGE-2': 0.0705882307986162, 'ROUGE-L': 0.1999999955281251}, 'ranked_list': {'ROUGE-1': 0.28037382800244565, 'ROUGE-2': 0.050847453919850884, 'ROUGE-L': 0.26168223921739897}, 'simple_graph': {'ROUGE-1': 0.3488372049945917, 'ROUGE-2': 0.06249999578342043, 'ROUGE-L': 0.32558139104110334}, 'centrality_based': {'ROUGE-1': 0.3488372049945917, 'ROUGE-2': 0.06249999578342043, 'ROUGE-L': 0.32558139104110334}}, {'voting_based': {'ROUGE-1': 0.18421052131925222, 'ROUGE-2': 0.07499999502812532, 'ROUGE-L': 0.15789473184556801}, 'ranked_list': {'ROUGE-1': 0.1282051232051284, 'ROUGE-2': 0.023529406765398986, 'ROUGE-L': 0.1025640975641028}, 'simple_graph': {'ROUGE-1': 0.12698412226757386, 'ROUGE-2': 0.029411760056229117, 'ROUGE-L': 0.12698412226757386}, 'centrality_based': {'ROUGE-1': 0.21874999523925792, 'ROUGE-2': 0.058823524762111105, 'ROUGE-L': 0.18749999523925795}}, {'voting_based': {'ROUGE-1': 0.18181817737373748, 'ROUGE-2': 0.061349689147503, 'ROUGE-L': 0.18181817737373748}, 'ranked_list': {'ROUGE-1': 0.17910447320115852, 'ROUGE-2': 0.06097560566701395, 'ROUGE-L': 0.16417910006683015}, 'simple_graph': {'ROUGE-1': 0.17910447320115852, 'ROUGE-2': 0.061349689147503, 'ROUGE-L': 0.17910447320115852}, 'centrality_based': {'ROUGE-1': 0.19298245140043102, 'ROUGE-2': 0.07299269622249481, 'ROUGE-L': 0.19298245140043102}}, {'voting_based': {'ROUGE-1': 0.025641021380671317, 'ROUGE-2': 0.0, 'ROUGE-L': 0.025641021380671317}, 'ranked_list': {'ROUGE-1': 0.040404036730946155, 'ROUGE-2': 0.0, 'ROUGE-L': 0.040404036730946155}, 'simple_graph': {'ROUGE-1': 0.03389830025854708, 'ROUGE-2': 0.0, 'ROUGE-L': 0.03389830025854708}, 'centrality_based': {'ROUGE-1': 0.05333332898133369, 'ROUGE-2': 0.0, 'ROUGE-L': 0.05333332898133369}}, {'voting_based': {'ROUGE-1': 0.23404254841783623, 'ROUGE-2': 0.12727272264462824, 'ROUGE-L': 0.21276595267315537}, 'ranked_list': {'ROUGE-1': 0.18181817694473154, 'ROUGE-2': 0.0, 'ROUGE-L': 0.09090908603564077}, 'simple_graph': {'ROUGE-1': 0.27397259774066435, 'ROUGE-2': 0.17721518487421903, 'ROUGE-L': 0.27397259774066435}, 'centrality_based': {'ROUGE-1': 0.23404254841783623, 'ROUGE-2': 0.1333333286167802, 'ROUGE-L': 0.23404254841783623}}, {'voting_based': {'ROUGE-1': 0.22448979105164527, 'ROUGE-2': 0.01818181338181945, 'ROUGE-L': 0.16326530125572694}, 'ranked_list': {'ROUGE-1': 0.3225806407349116, 'ROUGE-2': 0.10738254617359595, 'ROUGE-L': 0.2903225762187826}, 'simple_graph': {'ROUGE-1': 0.377777772817284, 'ROUGE-2': 0.12962962480109758, 'ROUGE-L': 0.3555555505950617}, 'centrality_based': {'ROUGE-1': 0.377777772817284, 'ROUGE-2': 0.12962962480109758, 'ROUGE-L': 0.3555555505950617}}, {'voting_based': {'ROUGE-1': 0.5393258380305518, 'ROUGE-2': 0.35294117202614383, 'ROUGE-L': 0.44943819758111353}, 'ranked_list': {'ROUGE-1': 0.4062499961730958, 'ROUGE-2': 0.25165562564975225, 'ROUGE-L': 0.3437499961730957}, 'simple_graph': {'ROUGE-1': 0.4848484804040405, 'ROUGE-2': 0.31666666260555565, 'ROUGE-L': 0.4848484804040405}, 'centrality_based': {'ROUGE-1': 0.4848484804040405, 'ROUGE-2': 0.31666666260555565, 'ROUGE-L': 0.4848484804040405}}, {'voting_based': {'ROUGE-1': 0.2608695604087903, 'ROUGE-2': 0.0, 'ROUGE-L': 0.17391303866965988}, 'ranked_list': {'ROUGE-1': 0.27777777327331965, 'ROUGE-2': 0.0639999956480003, 'ROUGE-L': 0.24074073623628267}, 'simple_graph': {'ROUGE-1': 0.21052631103379513, 'ROUGE-2': 0.0, 'ROUGE-L': 0.18947367945484778}, 'centrality_based': {'ROUGE-1': 0.2857142811501135, 'ROUGE-2': 0.06666666222222252, 'ROUGE-L': 0.24761904305487537}}, {'voting_based': {'ROUGE-1': 0.424999995703125, 'ROUGE-2': 0.24999999593233477, 'ROUGE-L': 0.32499999570312504}, 'ranked_list': {'ROUGE-1': 0.38297871949977363, 'ROUGE-2': 0.20560747305441526, 'ROUGE-L': 0.36170212375509286}, 'simple_graph': {'ROUGE-1': 0.38297871949977363, 'ROUGE-2': 0.20370370014574765, 'ROUGE-L': 0.31914893226573116}, 'centrality_based': {'ROUGE-1': 0.38297871949977363, 'ROUGE-2': 0.20370370014574765, 'ROUGE-L': 0.31914893226573116}}, {'voting_based': {'ROUGE-1': 0.10638297399728407, 'ROUGE-2': 0.0, 'ROUGE-L': 0.08510637825260325}, 'ranked_list': {'ROUGE-1': 0.15503875566612593, 'ROUGE-2': 0.024539873475103162, 'ROUGE-L': 0.13953487969713368}, 'simple_graph': {'ROUGE-1': 0.15503875566612593, 'ROUGE-2': 0.024539873475103162, 'ROUGE-L': 0.13953487969713368}, 'centrality_based': {'ROUGE-1': 0.16279069280692282, 'ROUGE-2': 0.039603955537692984, 'ROUGE-L': 0.13953487885343446}}, {'voting_based': {'ROUGE-1': 0.39024389779892926, 'ROUGE-2': 0.21052631108254857, 'ROUGE-L': 0.3658536538964902}, 'ranked_list': {'ROUGE-1': 0.348623849221446, 'ROUGE-2': 0.14084506663757204, 'ROUGE-L': 0.31192660151502405}, 'simple_graph': {'ROUGE-1': 0.39534883266630605, 'ROUGE-2': 0.18691588338544862, 'ROUGE-L': 0.39534883266630605}, 'centrality_based': {'ROUGE-1': 0.39534883266630605, 'ROUGE-2': 0.18691588338544862, 'ROUGE-L': 0.39534883266630605}}, {'voting_based': {'ROUGE-1': 0.26890755840971686, 'ROUGE-2': 0.04137930574459028, 'ROUGE-L': 0.21848739034249007}, 'ranked_list': {'ROUGE-1': 0.211920525727819, 'ROUGE-2': 0.0324324283909428, 'ROUGE-L': 0.13245032705232238}, 'simple_graph': {'ROUGE-1': 0.26890755840971686, 'ROUGE-2': 0.04137930574459028, 'ROUGE-L': 0.21848739034249007}, 'centrality_based': {'ROUGE-1': 0.26890755840971686, 'ROUGE-2': 0.04137930574459028, 'ROUGE-L': 0.2016806676534144}}, {'voting_based': {'ROUGE-1': 0.15555555135555565, 'ROUGE-2': 0.02061855242852676, 'ROUGE-L': 0.13333332913333346}, 'ranked_list': {'ROUGE-1': 0.14876032711153617, 'ROUGE-2': 0.01379310016646927, 'ROUGE-L': 0.11570247587186677}, 'simple_graph': {'ROUGE-1': 0.1363636321100208, 'ROUGE-2': 0.019417471599586136, 'ROUGE-L': 0.1363636321100208}, 'centrality_based': {'ROUGE-1': 0.1363636321100208, 'ROUGE-2': 0.019417471599586136, 'ROUGE-L': 0.1363636321100208}}, {'voting_based': {'ROUGE-1': 0.4186046465521904, 'ROUGE-2': 0.2075471653257388, 'ROUGE-L': 0.37209301864521366}, 'ranked_list': {'ROUGE-1': 0.33684210086648203, 'ROUGE-2': 0.1848739453597911, 'ROUGE-L': 0.31578946928753465}, 'simple_graph': {'ROUGE-1': 0.4687499950048828, 'ROUGE-2': 0.28571428073536864, 'ROUGE-L': 0.4687499950048828}, 'centrality_based': {'ROUGE-1': 0.35849056189925244, 'ROUGE-2': 0.16417910054800633, 'ROUGE-L': 0.3018867883143468}}, {'voting_based': {'ROUGE-1': 0.1960784268050751, 'ROUGE-2': 0.01754385514773892, 'ROUGE-L': 0.1568627405305653}, 'ranked_list': {'ROUGE-1': 0.2882882839055272, 'ROUGE-2': 0.044117642968209726, 'ROUGE-L': 0.2342342298514731}, 'simple_graph': {'ROUGE-1': 0.27397259774066435, 'ROUGE-2': 0.02531645069700467, 'ROUGE-L': 0.27397259774066435}, 'centrality_based': {'ROUGE-1': 0.3124999953125, 'ROUGE-2': 0.05405404949598286, 'ROUGE-L': 0.2708333286458334}}, {'voting_based': {'ROUGE-1': 0.22222221728395072, 'ROUGE-2': 0.05263157403393398, 'ROUGE-L': 0.13888888395061746}, 'ranked_list': {'ROUGE-1': 0.21052631132188374, 'ROUGE-2': 0.0380952337850345, 'ROUGE-L': 0.14736841658504168}, 'simple_graph': {'ROUGE-1': 0.2105263108648816, 'ROUGE-2': 0.06666666171666703, 'ROUGE-L': 0.2105263108648816}, 'centrality_based': {'ROUGE-1': 0.22222221805212622, 'ROUGE-2': 0.03278688129938236, 'ROUGE-L': 0.11111110694101523}}, {'voting_based': {'ROUGE-1': 0.46341462933670435, 'ROUGE-2': 0.1874999953125001, 'ROUGE-L': 0.36585365372694834}, 'ranked_list': {'ROUGE-1': 0.5176470540733565, 'ROUGE-2': 0.21999999539200013, 'ROUGE-L': 0.4941176423086506}, 'simple_graph': {'ROUGE-1': 0.3333333283333334, 'ROUGE-2': 0.11111110611111134, 'ROUGE-L': 0.3333333283333334}, 'centrality_based': {'ROUGE-1': 0.5483870917950052, 'ROUGE-2': 0.20895521890844299, 'ROUGE-L': 0.5483870917950052}}, {'voting_based': {'ROUGE-1': 0.31707316575847716, 'ROUGE-2': 0.15217390810255216, 'ROUGE-L': 0.31707316575847716}, 'ranked_list': {'ROUGE-1': 0.24390243475444515, 'ROUGE-2': 0.10526315395515944, 'ROUGE-L': 0.22764227215281915}, 'simple_graph': {'ROUGE-1': 0.31707316575847716, 'ROUGE-2': 0.15217390810255216, 'ROUGE-L': 0.31707316575847716}, 'centrality_based': {'ROUGE-1': 0.31707316575847716, 'ROUGE-2': 0.1505376294785526, 'ROUGE-L': 0.31707316575847716}}, {'voting_based': {'ROUGE-1': 0.2718446554020172, 'ROUGE-2': 0.10344827111325824, 'ROUGE-L': 0.23300970394570655}, 'ranked_list': {'ROUGE-1': 0.3166666621680556, 'ROUGE-2': 0.17687074405108993, 'ROUGE-L': 0.3166666621680556}, 'simple_graph': {'ROUGE-1': 0.3333333283728396, 'ROUGE-2': 0.1346153797059913, 'ROUGE-L': 0.3333333283728396}, 'centrality_based': {'ROUGE-1': 0.3333333283728396, 'ROUGE-2': 0.1346153797059913, 'ROUGE-L': 0.3333333283728396}}, {'voting_based': {'ROUGE-1': 0.08163264916284901, 'ROUGE-2': 0.01869158510612353, 'ROUGE-L': 0.08163264916284901}, 'ranked_list': {'ROUGE-1': 0.15999999615200008, 'ROUGE-2': 0.03571428214923505, 'ROUGE-L': 0.15999999615200008}, 'simple_graph': {'ROUGE-1': 0.12307691827692328, 'ROUGE-2': 0.02985074151927009, 'ROUGE-L': 0.12307691827692328}, 'centrality_based': {'ROUGE-1': 0.13333332960725636, 'ROUGE-2': 0.016260159267632385, 'ROUGE-L': 0.11428571055963731}}, {'voting_based': {'ROUGE-1': 0.17647058385813158, 'ROUGE-2': 0.0, 'ROUGE-L': 0.13725489758362183}, 'ranked_list': {'ROUGE-1': 0.2068965476530916, 'ROUGE-2': 0.014814810903704737, 'ROUGE-L': 0.18965516834274682}, 'simple_graph': {'ROUGE-1': 0.144927531241336, 'ROUGE-2': 0.0, 'ROUGE-L': 0.144927531241336}, 'centrality_based': {'ROUGE-1': 0.2068965476530916, 'ROUGE-2': 0.014814810903704737, 'ROUGE-L': 0.15517240972205718}}, {'voting_based': {'ROUGE-1': 0.28571428078925454, 'ROUGE-2': 0.12499999505739816, 'ROUGE-L': 0.2653061175239484}, 'ranked_list': {'ROUGE-1': 0.3410852668733851, 'ROUGE-2': 0.18867924097148067, 'ROUGE-L': 0.3410852668733851}, 'simple_graph': {'ROUGE-1': 0.40776698542746725, 'ROUGE-2': 0.23809523330813817, 'ROUGE-L': 0.40776698542746725}, 'centrality_based': {'ROUGE-1': 0.40776698542746725, 'ROUGE-2': 0.23809523330813817, 'ROUGE-L': 0.40776698542746725}}, {'voting_based': {'ROUGE-1': 0.1666666620096373, 'ROUGE-2': 0.0, 'ROUGE-L': 0.11904761439058976}, 'ranked_list': {'ROUGE-1': 0.2727272686793389, 'ROUGE-2': 0.14705881977941188, 'ROUGE-L': 0.21818181413388435}, 'simple_graph': {'ROUGE-1': 0.1666666620096373, 'ROUGE-2': 0.0, 'ROUGE-L': 0.11904761439058976}, 'centrality_based': {'ROUGE-1': 0.21052631095914137, 'ROUGE-2': 0.0, 'ROUGE-L': 0.15789473201177298}}, {'voting_based': {'ROUGE-1': 0.2708333284722223, 'ROUGE-2': 0.07079645542172482, 'ROUGE-L': 0.22916666180555567}, 'ranked_list': {'ROUGE-1': 0.303030298214468, 'ROUGE-2': 0.11864406311979336, 'ROUGE-L': 0.26262625781042753}, 'simple_graph': {'ROUGE-1': 0.2608695603444655, 'ROUGE-2': 0.10256409764628557, 'ROUGE-L': 0.2608695603444655}, 'centrality_based': {'ROUGE-1': 0.303030298214468, 'ROUGE-2': 0.11864406311979336, 'ROUGE-L': 0.26262625781042753}}, {'voting_based': {'ROUGE-1': 0.05633802360642767, 'ROUGE-2': 0.0, 'ROUGE-L': 0.05633802360642767}, 'ranked_list': {'ROUGE-1': 0.14062499539550796, 'ROUGE-2': 0.03973509490811856, 'ROUGE-L': 0.109374995395508}, 'simple_graph': {'ROUGE-1': 0.05633802360642767, 'ROUGE-2': 0.0, 'ROUGE-L': 0.05633802360642767}, 'centrality_based': {'ROUGE-1': 0.12121211623711886, 'ROUGE-2': 0.05128204638761096, 'ROUGE-L': 0.12121211623711886}}, {'voting_based': {'ROUGE-1': 0.5376344038570934, 'ROUGE-2': 0.26923076464681955, 'ROUGE-L': 0.49462365116892126}, 'ranked_list': {'ROUGE-1': 0.4374999959570314, 'ROUGE-2': 0.1842105226324447, 'ROUGE-L': 0.3749999959570313}, 'simple_graph': {'ROUGE-1': 0.5154639128579022, 'ROUGE-2': 0.24561403070329338, 'ROUGE-L': 0.49484535615687114}, 'centrality_based': {'ROUGE-1': 0.5154639128579022, 'ROUGE-2': 0.24561403070329338, 'ROUGE-L': 0.49484535615687114}}, {'voting_based': {'ROUGE-1': 0.2156862697424069, 'ROUGE-2': 0.033333328605556226, 'ROUGE-L': 0.1568627403306422}, 'ranked_list': {'ROUGE-1': 0.19834710301208944, 'ROUGE-2': 0.050632907264861735, 'ROUGE-L': 0.18181817739225473}, 'simple_graph': {'ROUGE-1': 0.23999999520000007, 'ROUGE-2': 0.047999995348480456, 'ROUGE-L': 0.23999999520000007}, 'centrality_based': {'ROUGE-1': 0.23999999520000007, 'ROUGE-2': 0.047999995348480456, 'ROUGE-L': 0.23999999520000007}}, {'voting_based': {'ROUGE-1': 0.23853210539853553, 'ROUGE-2': 0.01639343810803672, 'ROUGE-L': 0.2018348576921136}, 'ranked_list': {'ROUGE-1': 0.27941176049416094, 'ROUGE-2': 0.05847952845798731, 'ROUGE-L': 0.26470587814121976}, 'simple_graph': {'ROUGE-1': 0.3076923029160503, 'ROUGE-2': 0.0813008085108073, 'ROUGE-L': 0.28846153368528116}, 'centrality_based': {'ROUGE-1': 0.3076923029160503, 'ROUGE-2': 0.0813008085108073, 'ROUGE-L': 0.28846153368528116}}, {'voting_based': {'ROUGE-1': 0.10101009695337228, 'ROUGE-2': 0.0, 'ROUGE-L': 0.0808080767513521}, 'ranked_list': {'ROUGE-1': 0.14141413735741262, 'ROUGE-2': 0.0, 'ROUGE-L': 0.12121211715539242}, 'simple_graph': {'ROUGE-1': 0.1797752765862897, 'ROUGE-2': 0.0, 'ROUGE-L': 0.15730336647393017}, 'centrality_based': {'ROUGE-1': 0.14141413735741262, 'ROUGE-2': 0.0, 'ROUGE-L': 0.14141413735741262}}, {'voting_based': {'ROUGE-1': 0.3655913928546653, 'ROUGE-2': 0.13461537962278125, 'ROUGE-L': 0.3225806401664933}, 'ranked_list': {'ROUGE-1': 0.563636358801653, 'ROUGE-2': 0.34782608233564377, 'ROUGE-L': 0.5454545406198348}, 'simple_graph': {'ROUGE-1': 0.3733333285333334, 'ROUGE-2': 0.17073170255800132, 'ROUGE-L': 0.3733333285333334}, 'centrality_based': {'ROUGE-1': 0.4494381972478222, 'ROUGE-2': 0.17821781678266854, 'ROUGE-L': 0.40449437702310326}}, {'voting_based': {'ROUGE-1': 0.27368420555346273, 'ROUGE-2': 0.14814814323216752, 'ROUGE-L': 0.25263157397451524}, 'ranked_list': {'ROUGE-1': 0.35294117209342557, 'ROUGE-2': 0.1226993823990366, 'ROUGE-L': 0.2647058779757786}, 'simple_graph': {'ROUGE-1': 0.3818181770181819, 'ROUGE-2': 0.16260162129420333, 'ROUGE-L': 0.30909090429090913}, 'centrality_based': {'ROUGE-1': 0.3818181770181819, 'ROUGE-2': 0.16129031787330916, 'ROUGE-L': 0.3454545406545455}}, {'voting_based': {'ROUGE-1': 0.4761904713293651, 'ROUGE-2': 0.1333333285333335, 'ROUGE-L': 0.3571428522817461}, 'ranked_list': {'ROUGE-1': 0.5048543644452823, 'ROUGE-2': 0.2439024348839977, 'ROUGE-L': 0.4660194129889717}, 'simple_graph': {'ROUGE-1': 0.5048543644452823, 'ROUGE-2': 0.24590163518409033, 'ROUGE-L': 0.4466019372608163}, 'centrality_based': {'ROUGE-1': 0.5384615335141354, 'ROUGE-2': 0.2444444396444445, 'ROUGE-L': 0.4871794822320842}}, {'voting_based': {'ROUGE-1': 0.37894736371412746, 'ROUGE-2': 0.16513761013719397, 'ROUGE-L': 0.37894736371412746}, 'ranked_list': {'ROUGE-1': 0.358974354714004, 'ROUGE-2': 0.18439715918313976, 'ROUGE-L': 0.358974354714004}, 'simple_graph': {'ROUGE-1': 0.4883720881557599, 'ROUGE-2': 0.24489795443565188, 'ROUGE-L': 0.4883720881557599}, 'centrality_based': {'ROUGE-1': 0.4883720881557599, 'ROUGE-2': 0.24489795443565188, 'ROUGE-L': 0.4883720881557599}}, {'voting_based': {'ROUGE-1': 0.2666666617876544, 'ROUGE-2': 0.061224484964598466, 'ROUGE-L': 0.19999999512098776}, 'ranked_list': {'ROUGE-1': 0.31481481025377234, 'ROUGE-2': 0.12121211698806258, 'ROUGE-L': 0.29629629173525385}, 'simple_graph': {'ROUGE-1': 0.3364485935505285, 'ROUGE-2': 0.14173227914935843, 'ROUGE-L': 0.299065415980435}, 'centrality_based': {'ROUGE-1': 0.3720930183234181, 'ROUGE-2': 0.16494844876182393, 'ROUGE-L': 0.3720930183234181}}, {'voting_based': {'ROUGE-1': 0.13999999551200015, 'ROUGE-2': 0.03225806039542196, 'ROUGE-L': 0.11999999551200018}, 'ranked_list': {'ROUGE-1': 0.1487603265378049, 'ROUGE-2': 0.038461534911242934, 'ROUGE-L': 0.1487603265378049}, 'simple_graph': {'ROUGE-1': 0.19718309360047623, 'ROUGE-2': 0.05128204631163757, 'ROUGE-L': 0.19718309360047623}, 'centrality_based': {'ROUGE-1': 0.19565216925330825, 'ROUGE-2': 0.05454545014214912, 'ROUGE-L': 0.19565216925330825}}, {'voting_based': {'ROUGE-1': 0.4044943772048984, 'ROUGE-2': 0.14285713810912135, 'ROUGE-L': 0.3595505569801793}, 'ranked_list': {'ROUGE-1': 0.3333333291333333, 'ROUGE-2': 0.1232876673822482, 'ROUGE-L': 0.29999999580000003}, 'simple_graph': {'ROUGE-1': 0.4301075221366632, 'ROUGE-2': 0.16513761013719397, 'ROUGE-L': 0.3870967694484912}, 'centrality_based': {'ROUGE-1': 0.4301075221366632, 'ROUGE-2': 0.16513761013719397, 'ROUGE-L': 0.3870967694484912}}, {'voting_based': {'ROUGE-1': 0.21359222846262618, 'ROUGE-2': 0.06504064596205993, 'ROUGE-L': 0.15533980127816016}, 'ranked_list': {'ROUGE-1': 0.2524271799189368, 'ROUGE-2': 0.09302325147767582, 'ROUGE-L': 0.23300970419078146}, 'simple_graph': {'ROUGE-1': 0.2524271799189368, 'ROUGE-2': 0.09302325147767582, 'ROUGE-L': 0.21359222846262618}, 'centrality_based': {'ROUGE-1': 0.22950819256113955, 'ROUGE-2': 0.07947019471953005, 'ROUGE-L': 0.18032786469228712}}, {'voting_based': {'ROUGE-1': 0.2526315741473685, 'ROUGE-2': 0.08849557059754118, 'ROUGE-L': 0.23157894256842115}, 'ranked_list': {'ROUGE-1': 0.25242717980959567, 'ROUGE-2': 0.07633587356214697, 'ROUGE-L': 0.23300970408144037}, 'simple_graph': {'ROUGE-1': 0.25242717980959567, 'ROUGE-2': 0.07633587356214697, 'ROUGE-L': 0.25242717980959567}, 'centrality_based': {'ROUGE-1': 0.18181817681902526, 'ROUGE-2': 0.0, 'ROUGE-L': 0.18181817681902526}}, {'voting_based': {'ROUGE-1': 0.24175823713561168, 'ROUGE-2': 0.059405936006274265, 'ROUGE-L': 0.24175823713561168}, 'ranked_list': {'ROUGE-1': 0.3214285672720026, 'ROUGE-2': 0.12213740059437109, 'ROUGE-L': 0.30357142441485974}, 'simple_graph': {'ROUGE-1': 0.2857142807306123, 'ROUGE-2': 0.07999999500800031, 'ROUGE-L': 0.2857142807306123}, 'centrality_based': {'ROUGE-1': 0.33734939280011617, 'ROUGE-2': 0.12765956974196485, 'ROUGE-L': 0.31325300725794747}}, {'voting_based': {'ROUGE-1': 0.15584415103390134, 'ROUGE-2': 0.023255809126555897, 'ROUGE-L': 0.15584415103390134}, 'ranked_list': {'ROUGE-1': 0.17475727734565003, 'ROUGE-2': 0.016666662534723247, 'ROUGE-L': 0.1553398016174947}, 'simple_graph': {'ROUGE-1': 0.18181817751658005, 'ROUGE-2': 0.01739130011342258, 'ROUGE-L': 0.16161615731455983}, 'centrality_based': {'ROUGE-1': 0.21917807730531066, 'ROUGE-2': 0.023255809126555897, 'ROUGE-L': 0.21917807730531066}}, {'voting_based': {'ROUGE-1': 0.23300970387406927, 'ROUGE-2': 0.09009008523658821, 'ROUGE-L': 0.19417475241775864}, 'ranked_list': {'ROUGE-1': 0.18803418338519992, 'ROUGE-2': 0.014184392766964794, 'ROUGE-L': 0.15384614919716574}, 'simple_graph': {'ROUGE-1': 0.20454544954803736, 'ROUGE-2': 0.019230764297338544, 'ROUGE-L': 0.18181817682076462}, 'centrality_based': {'ROUGE-1': 0.20454544954803736, 'ROUGE-2': 0.019230764297338544, 'ROUGE-L': 0.18181817682076462}}, {'voting_based': {'ROUGE-1': 0.2380952331660999, 'ROUGE-2': 0.0, 'ROUGE-L': 0.16666666173752848}, 'ranked_list': {'ROUGE-1': 0.24242423774308747, 'ROUGE-2': 0.03508771485380173, 'ROUGE-L': 0.22222221754106733}, 'simple_graph': {'ROUGE-1': 0.2812499951220704, 'ROUGE-2': 0.05797100954421382, 'ROUGE-L': 0.2812499951220704}, 'centrality_based': {'ROUGE-1': 0.2812499951220704, 'ROUGE-2': 0.057142852179592266, 'ROUGE-L': 0.2812499951220704}}, {'voting_based': {'ROUGE-1': 0.1573033665597779, 'ROUGE-2': 0.02020201623507883, 'ROUGE-L': 0.1573033665597779}, 'ranked_list': {'ROUGE-1': 0.14953270650711864, 'ROUGE-2': 0.031496059644119646, 'ROUGE-L': 0.1308411177220719}, 'simple_graph': {'ROUGE-1': 0.12903225314776293, 'ROUGE-2': 0.030769225912426805, 'ROUGE-L': 0.12903225314776293}, 'centrality_based': {'ROUGE-1': 0.16867469440557423, 'ROUGE-2': 0.04166666262369831, 'ROUGE-L': 0.16867469440557423}}, {'voting_based': {'ROUGE-1': 0.2526315741473685, 'ROUGE-2': 0.08849557059754118, 'ROUGE-L': 0.23157894256842115}, 'ranked_list': {'ROUGE-1': 0.25242717980959567, 'ROUGE-2': 0.07633587356214697, 'ROUGE-L': 0.23300970408144037}, 'simple_graph': {'ROUGE-1': 0.25242717980959567, 'ROUGE-2': 0.07633587356214697, 'ROUGE-L': 0.25242717980959567}, 'centrality_based': {'ROUGE-1': 0.18181817681902526, 'ROUGE-2': 0.0, 'ROUGE-L': 0.18181817681902526}}, {'voting_based': {'ROUGE-1': 0.2424242374288339, 'ROUGE-2': 0.11764705382352963, 'ROUGE-L': 0.2424242374288339}, 'ranked_list': {'ROUGE-1': 0.19354838311654532, 'ROUGE-2': 0.07547169475099892, 'ROUGE-L': 0.17741935085848082}, 'simple_graph': {'ROUGE-1': 0.2424242374288339, 'ROUGE-2': 0.11764705382352963, 'ROUGE-L': 0.2424242374288339}, 'centrality_based': {'ROUGE-1': 0.23157894277229923, 'ROUGE-2': 0.08928571005739816, 'ROUGE-L': 0.23157894277229923}}, {'voting_based': {'ROUGE-1': 0.3124999955555556, 'ROUGE-2': 0.05405404955117317, 'ROUGE-L': 0.16666666222222234}, 'ranked_list': {'ROUGE-1': 0.2982456099969222, 'ROUGE-2': 0.10958903724526191, 'ROUGE-L': 0.2807017503477994}, 'simple_graph': {'ROUGE-1': 0.3880596965025619, 'ROUGE-2': 0.0799999950008892, 'ROUGE-L': 0.3582089502339051}, 'centrality_based': {'ROUGE-1': 0.35164834708851594, 'ROUGE-2': 0.1249999955165818, 'ROUGE-L': 0.35164834708851594}}, {'voting_based': {'ROUGE-1': 0.3142857094326531, 'ROUGE-2': 0.18181817700792724, 'ROUGE-L': 0.3142857094326531}, 'ranked_list': {'ROUGE-1': 0.32183907601532574, 'ROUGE-2': 0.19047618631473934, 'ROUGE-L': 0.32183907601532574}, 'simple_graph': {'ROUGE-1': 0.32183907601532574, 'ROUGE-2': 0.19047618631473934, 'ROUGE-L': 0.32183907601532574}, 'centrality_based': {'ROUGE-1': 0.3703703657735102, 'ROUGE-2': 0.20618556266128182, 'ROUGE-L': 0.34567900774881877}}, {'voting_based': {'ROUGE-1': 0.34693877071845075, 'ROUGE-2': 0.09708737393533814, 'ROUGE-L': 0.2448979543919201}, 'ranked_list': {'ROUGE-1': 0.33928570974649236, 'ROUGE-2': 0.08264462373061973, 'ROUGE-L': 0.2857142811750638}, 'simple_graph': {'ROUGE-1': 0.3703703653772291, 'ROUGE-2': 0.11627906481070871, 'ROUGE-L': 0.3703703653772291}, 'centrality_based': {'ROUGE-1': 0.3703703653772291, 'ROUGE-2': 0.11627906481070871, 'ROUGE-L': 0.3703703653772291}}, {'voting_based': {'ROUGE-1': 0.0714285665306126, 'ROUGE-2': 0.0, 'ROUGE-L': 0.0714285665306126}, 'ranked_list': {'ROUGE-1': 0.05714285263673504, 'ROUGE-2': 0.0, 'ROUGE-L': 0.05714285263673504}, 'simple_graph': {'ROUGE-1': 0.09523809034013632, 'ROUGE-2': 0.0, 'ROUGE-L': 0.09523809034013632}, 'centrality_based': {'ROUGE-1': 0.0714285665306126, 'ROUGE-2': 0.0, 'ROUGE-L': 0.0714285665306126}}, {'voting_based': {'ROUGE-1': 0.11267605141836959, 'ROUGE-2': 0.026315784560250226, 'ROUGE-L': 0.11267605141836959}, 'ranked_list': {'ROUGE-1': 0.07317072700475938, 'ROUGE-2': 0.0, 'ROUGE-L': 0.07317072700475938}, 'simple_graph': {'ROUGE-1': 0.09259258849965725, 'ROUGE-2': 0.015748027649576238, 'ROUGE-L': 0.09259258849965725}, 'centrality_based': {'ROUGE-1': 0.05607476223949721, 'ROUGE-2': 0.0, 'ROUGE-L': 0.05607476223949721}}, {'voting_based': {'ROUGE-1': 0.1111111076543211, 'ROUGE-2': 0.0, 'ROUGE-L': 0.0925925891358026}, 'ranked_list': {'ROUGE-1': 0.08695651788279792, 'ROUGE-2': 0.0, 'ROUGE-L': 0.08695651788279792}, 'simple_graph': {'ROUGE-1': 0.07999999564800023, 'ROUGE-2': 0.0, 'ROUGE-L': 0.07999999564800023}, 'centrality_based': {'ROUGE-1': 0.10169491042803815, 'ROUGE-2': 0.0, 'ROUGE-L': 0.10169491042803815}}, {'voting_based': {'ROUGE-1': 0.2988505704320254, 'ROUGE-2': 0.07920791661601825, 'ROUGE-L': 0.22988505319064612}, 'ranked_list': {'ROUGE-1': 0.22047243759687524, 'ROUGE-2': 0.049689437961498585, 'ROUGE-L': 0.20472440610081222}, 'simple_graph': {'ROUGE-1': 0.27368420645761776, 'ROUGE-2': 0.06956521353497186, 'ROUGE-L': 0.27368420645761776}, 'centrality_based': {'ROUGE-1': 0.27368420645761776, 'ROUGE-2': 0.06956521353497186, 'ROUGE-L': 0.27368420645761776}}, {'voting_based': {'ROUGE-1': 0.24657533767686257, 'ROUGE-2': 0.05063290662393893, 'ROUGE-L': 0.24657533767686257}, 'ranked_list': {'ROUGE-1': 0.22499999537812512, 'ROUGE-2': 0.04347825640122919, 'ROUGE-L': 0.22499999537812512}, 'simple_graph': {'ROUGE-1': 0.22499999537812512, 'ROUGE-2': 0.043956039463833335, 'ROUGE-L': 0.22499999537812512}, 'centrality_based': {'ROUGE-1': 0.22499999537812512, 'ROUGE-2': 0.04347825640122919, 'ROUGE-L': 0.22499999537812512}}, {'voting_based': {'ROUGE-1': 0.31818181327479345, 'ROUGE-2': 0.05607476145340247, 'ROUGE-L': 0.29545454054752074}, 'ranked_list': {'ROUGE-1': 0.299065415980435, 'ROUGE-2': 0.07633587330575169, 'ROUGE-L': 0.24299064962529485}, 'simple_graph': {'ROUGE-1': 0.2926829218560381, 'ROUGE-2': 0.07920791583178151, 'ROUGE-L': 0.2682926779535991}, 'centrality_based': {'ROUGE-1': 0.2926829218560381, 'ROUGE-2': 0.07920791583178151, 'ROUGE-L': 0.2682926779535991}}, {'voting_based': {'ROUGE-1': 0.11235954561292788, 'ROUGE-2': 0.021505371474159964, 'ROUGE-L': 0.11235954561292788}, 'ranked_list': {'ROUGE-1': 0.08080807599224597, 'ROUGE-2': 0.01923076454327037, 'ROUGE-L': 0.08080807599224597}, 'simple_graph': {'ROUGE-1': 0.11881187640427428, 'ROUGE-2': 0.018867919877181633, 'ROUGE-L': 0.09900989620625453}, 'centrality_based': {'ROUGE-1': 0.08163264822990449, 'ROUGE-2': 0.018018013459947583, 'ROUGE-L': 0.061224484964598466}}, {'voting_based': {'ROUGE-1': 0.41758241265547646, 'ROUGE-2': 0.13592232530492995, 'ROUGE-L': 0.39560439067745445}, 'ranked_list': {'ROUGE-1': 0.26785713826530616, 'ROUGE-2': 0.07246376393929871, 'ROUGE-L': 0.24999999540816334}, 'simple_graph': {'ROUGE-1': 0.2857142807256236, 'ROUGE-2': 0.10204081145980864, 'ROUGE-L': 0.2619047569160999}, 'centrality_based': {'ROUGE-1': 0.2857142807256236, 'ROUGE-2': 0.10204081145980864, 'ROUGE-L': 0.2619047569160999}}, {'voting_based': {'ROUGE-1': 0.4406779613444413, 'ROUGE-2': 0.1290322533975028, 'ROUGE-L': 0.33898304609020397}, 'ranked_list': {'ROUGE-1': 0.38554216466831187, 'ROUGE-2': 0.10309277988734204, 'ROUGE-L': 0.3132530080418058}, 'simple_graph': {'ROUGE-1': 0.38554216466831187, 'ROUGE-2': 0.10416666302300358, 'ROUGE-L': 0.26506023695746844}, 'centrality_based': {'ROUGE-1': 0.38554216466831187, 'ROUGE-2': 0.10309277988734204, 'ROUGE-L': 0.3132530080418058}}, {'voting_based': {'ROUGE-1': 0.15789473206371207, 'ROUGE-2': 0.022471905219039065, 'ROUGE-L': 0.15789473206371207}, 'ranked_list': {'ROUGE-1': 0.2247190966544629, 'ROUGE-2': 0.037037032475995074, 'ROUGE-L': 0.20224718654210339}, 'simple_graph': {'ROUGE-1': 0.2247190966544629, 'ROUGE-2': 0.036697243164717334, 'ROUGE-L': 0.20224718654210339}, 'centrality_based': {'ROUGE-1': 0.25225224830776727, 'ROUGE-2': 0.04379561642921876, 'ROUGE-L': 0.1981981942537132}}, {'voting_based': {'ROUGE-1': 0.23684210031855968, 'ROUGE-2': 0.0, 'ROUGE-L': 0.18421052137119123}, 'ranked_list': {'ROUGE-1': 0.21153845713757405, 'ROUGE-2': 0.0, 'ROUGE-L': 0.19230768790680483}, 'simple_graph': {'ROUGE-1': 0.23157894277229923, 'ROUGE-2': 0.01834861956064405, 'ROUGE-L': 0.18947367961440453}, 'centrality_based': {'ROUGE-1': 0.20454544980371908, 'ROUGE-2': 0.0, 'ROUGE-L': 0.20454544980371908}}, {'voting_based': {'ROUGE-1': 0.05063290668162197, 'ROUGE-2': 0.0, 'ROUGE-L': 0.05063290668162197}, 'ranked_list': {'ROUGE-1': 0.05660376952652219, 'ROUGE-2': 0.0, 'ROUGE-L': 0.05660376952652219}, 'simple_graph': {'ROUGE-1': 0.05660376952652219, 'ROUGE-2': 0.0, 'ROUGE-L': 0.05660376952652219}, 'centrality_based': {'ROUGE-1': 0.07936507573696162, 'ROUGE-2': 0.013888885672261547, 'ROUGE-L': 0.07936507573696162}}, {'voting_based': {'ROUGE-1': 0.23880596555134778, 'ROUGE-2': 0.10958903636704843, 'ROUGE-L': 0.23880596555134778}, 'ranked_list': {'ROUGE-1': 0.3896103853196155, 'ROUGE-2': 0.13483145636157065, 'ROUGE-L': 0.3116883073975376}, 'simple_graph': {'ROUGE-1': 0.2580645113839751, 'ROUGE-2': 0.11111110635802489, 'ROUGE-L': 0.2580645113839751}, 'centrality_based': {'ROUGE-1': 0.2580645113839751, 'ROUGE-2': 0.11111110635802489, 'ROUGE-L': 0.2580645113839751}}, {'voting_based': {'ROUGE-1': 0.33333332849441166, 'ROUGE-2': 0.06666666182469172, 'ROUGE-L': 0.25641025157133474}, 'ranked_list': {'ROUGE-1': 0.2772277184432899, 'ROUGE-2': 0.04999999573472259, 'ROUGE-L': 0.23762375804725033}, 'simple_graph': {'ROUGE-1': 0.2772277184432899, 'ROUGE-2': 0.05042016378221913, 'ROUGE-L': 0.19801979765121078}, 'centrality_based': {'ROUGE-1': 0.2772277184432899, 'ROUGE-2': 0.04999999573472259, 'ROUGE-L': 0.23762375804725033}}, {'voting_based': {'ROUGE-1': 0.37037036601127876, 'ROUGE-2': 0.23404254892485293, 'ROUGE-L': 0.3456790079865874}, 'ranked_list': {'ROUGE-1': 0.18803418457739798, 'ROUGE-2': 0.041095887227435034, 'ROUGE-L': 0.13675213329534675}, 'simple_graph': {'ROUGE-1': 0.19148935770031697, 'ROUGE-2': 0.01739130057618229, 'ROUGE-L': 0.17021276195563612}, 'centrality_based': {'ROUGE-1': 0.19148935770031697, 'ROUGE-2': 0.01739130057618229, 'ROUGE-L': 0.17021276195563612}}, {'voting_based': {'ROUGE-1': 0.5185185136899864, 'ROUGE-2': 0.2954545406637397, 'ROUGE-L': 0.49382715566529506}, 'ranked_list': {'ROUGE-1': 0.3893805268384369, 'ROUGE-2': 0.18705035594430938, 'ROUGE-L': 0.37168141179418906}, 'simple_graph': {'ROUGE-1': 0.46153845691583145, 'ROUGE-2': 0.2452830144446423, 'ROUGE-L': 0.46153845691583145}, 'centrality_based': {'ROUGE-1': 0.46153845691583145, 'ROUGE-2': 0.2452830144446423, 'ROUGE-L': 0.46153845691583145}}, {'voting_based': {'ROUGE-1': 0.13953487904813427, 'ROUGE-2': 0.0, 'ROUGE-L': 0.11627906509464593}, 'ranked_list': {'ROUGE-1': 0.16842104816398903, 'ROUGE-2': 0.0, 'ROUGE-L': 0.12631578500609433}, 'simple_graph': {'ROUGE-1': 0.16842104816398903, 'ROUGE-2': 0.0, 'ROUGE-L': 0.14736841658504168}, 'centrality_based': {'ROUGE-1': 0.13461538035502973, 'ROUGE-2': 0.0, 'ROUGE-L': 0.13461538035502973}}, {'voting_based': {'ROUGE-1': 0.3471074337709173, 'ROUGE-2': 0.1954887177228787, 'ROUGE-L': 0.3305785081510826}, 'ranked_list': {'ROUGE-1': 0.3124999958898926, 'ROUGE-2': 0.1558441521268343, 'ROUGE-L': 0.26562499588989263}, 'simple_graph': {'ROUGE-1': 0.21212120719467414, 'ROUGE-2': 0.059701487627534376, 'ROUGE-L': 0.21212120719467414}, 'centrality_based': {'ROUGE-1': 0.3471074337709173, 'ROUGE-2': 0.19402984668300297, 'ROUGE-L': 0.3471074337709173}}, {'voting_based': {'ROUGE-1': 0.26506023605167667, 'ROUGE-2': 0.05882352445982356, 'ROUGE-L': 0.24096385050950803}, 'ranked_list': {'ROUGE-1': 0.39622641060875763, 'ROUGE-2': 0.21428570987346948, 'ROUGE-L': 0.3584905615521538}, 'simple_graph': {'ROUGE-1': 0.3373493926781827, 'ROUGE-2': 0.1698113158419368, 'ROUGE-L': 0.3373493926781827}, 'centrality_based': {'ROUGE-1': 0.3373493926781827, 'ROUGE-2': 0.1698113158419368, 'ROUGE-L': 0.3373493926781827}}, {'voting_based': {'ROUGE-1': 0.1489361654866457, 'ROUGE-2': 0.0, 'ROUGE-L': 0.12765956974196485}, 'ranked_list': {'ROUGE-1': 0.23214285278061228, 'ROUGE-2': 0.06015037179490107, 'ROUGE-L': 0.19642856706632666}, 'simple_graph': {'ROUGE-1': 0.144927531241336, 'ROUGE-2': 0.0, 'ROUGE-L': 0.144927531241336}, 'centrality_based': {'ROUGE-1': 0.23214285278061228, 'ROUGE-2': 0.06015037179490107, 'ROUGE-L': 0.1785714242091838}}, {'voting_based': {'ROUGE-1': 0.4096385494266222, 'ROUGE-2': 0.08247422213625279, 'ROUGE-L': 0.31325300725794747}, 'ranked_list': {'ROUGE-1': 0.3272727230727273, 'ROUGE-2': 0.0746268617420363, 'ROUGE-L': 0.27272726852727275}, 'simple_graph': {'ROUGE-1': 0.3820224672440348, 'ROUGE-2': 0.0740740696296299, 'ROUGE-L': 0.3370786470193158}, 'centrality_based': {'ROUGE-1': 0.3820224672440348, 'ROUGE-2': 0.0740740696296299, 'ROUGE-L': 0.3370786470193158}}, {'voting_based': {'ROUGE-1': 0.17582417109044812, 'ROUGE-2': 0.07476635037121176, 'ROUGE-L': 0.1538461491124262}, 'ranked_list': {'ROUGE-1': 0.09345793952310266, 'ROUGE-2': 0.0, 'ROUGE-L': 0.09345793952310266}, 'simple_graph': {'ROUGE-1': 0.1584158370551908, 'ROUGE-2': 0.03199999553792063, 'ROUGE-L': 0.138613856857171}, 'centrality_based': {'ROUGE-1': 0.10389609893742645, 'ROUGE-2': 0.0, 'ROUGE-L': 0.10389609893742645}}, {'voting_based': {'ROUGE-1': 0.2298850528207162, 'ROUGE-2': 0.0970873742859838, 'ROUGE-L': 0.18390804132646332}, 'ranked_list': {'ROUGE-1': 0.39316238918839946, 'ROUGE-2': 0.19718309502380488, 'ROUGE-L': 0.3760683720943824}, 'simple_graph': {'ROUGE-1': 0.48351647895664784, 'ROUGE-2': 0.26666666235646264, 'ROUGE-L': 0.46153845697862583}, 'centrality_based': {'ROUGE-1': 0.48351647895664784, 'ROUGE-2': 0.26666666235646264, 'ROUGE-L': 0.46153845697862583}}, {'voting_based': {'ROUGE-1': 0.19444443983024703, 'ROUGE-2': 0.024096380995791245, 'ROUGE-L': 0.1388888842746915}, 'ranked_list': {'ROUGE-1': 0.2315789433927978, 'ROUGE-2': 0.06611569883477925, 'ROUGE-L': 0.18947368023490313}, 'simple_graph': {'ROUGE-1': 0.2168674655770069, 'ROUGE-2': 0.03921568220492161, 'ROUGE-L': 0.19277108003483823}, 'centrality_based': {'ROUGE-1': 0.2168674655770069, 'ROUGE-2': 0.03921568220492161, 'ROUGE-L': 0.19277108003483823}}, {'voting_based': {'ROUGE-1': 0.4155844108281329, 'ROUGE-2': 0.19999999548395075, 'ROUGE-L': 0.363636358880081}, 'ranked_list': {'ROUGE-1': 0.2622950782585327, 'ROUGE-2': 0.12162161830989783, 'ROUGE-L': 0.2622950782585327}, 'simple_graph': {'ROUGE-1': 0.4155844108281329, 'ROUGE-2': 0.19780219330998683, 'ROUGE-L': 0.4155844108281329}, 'centrality_based': {'ROUGE-1': 0.4155844108281329, 'ROUGE-2': 0.19780219330998683, 'ROUGE-L': 0.4155844108281329}}, {'voting_based': {'ROUGE-1': 0.16494844880008516, 'ROUGE-2': 0.0, 'ROUGE-L': 0.14432989209905425}, 'ranked_list': {'ROUGE-1': 0.15686274037485598, 'ROUGE-2': 0.016129027778357126, 'ROUGE-L': 0.15686274037485598}, 'simple_graph': {'ROUGE-1': 0.19178081694126492, 'ROUGE-2': 0.025641020670612403, 'ROUGE-L': 0.19178081694126492}, 'centrality_based': {'ROUGE-1': 0.19178081694126492, 'ROUGE-2': 0.025316450716232352, 'ROUGE-L': 0.19178081694126492}}, {'voting_based': {'ROUGE-1': 0.42105262682326877, 'ROUGE-2': 0.18348623393653743, 'ROUGE-L': 0.378947363665374}, 'ranked_list': {'ROUGE-1': 0.35398229648053886, 'ROUGE-2': 0.1459853973871811, 'ROUGE-L': 0.33628318143629105}, 'simple_graph': {'ROUGE-1': 0.42105262682326877, 'ROUGE-2': 0.1818181772413224, 'ROUGE-L': 0.3999999952443214}, 'centrality_based': {'ROUGE-1': 0.42105262682326877, 'ROUGE-2': 0.1818181772413224, 'ROUGE-L': 0.3999999952443214}}, {'voting_based': {'ROUGE-1': 0.04444444033580285, 'ROUGE-2': 0.0, 'ROUGE-L': 0.04444444033580285}, 'ranked_list': {'ROUGE-1': 0.2142857107206633, 'ROUGE-2': 0.0402684533237244, 'ROUGE-L': 0.19642856786352045}, 'simple_graph': {'ROUGE-1': 0.14117646634186864, 'ROUGE-2': 0.019230765295858793, 'ROUGE-L': 0.14117646634186864}, 'centrality_based': {'ROUGE-1': 0.14117646634186864, 'ROUGE-2': 0.019230765295858793, 'ROUGE-L': 0.14117646634186864}}, {'voting_based': {'ROUGE-1': 0.43678160443387504, 'ROUGE-2': 0.19417475253087013, 'ROUGE-L': 0.43678160443387504}, 'ranked_list': {'ROUGE-1': 0.41904761466848073, 'ROUGE-2': 0.15873015439657356, 'ROUGE-L': 0.38095237657324266}, 'simple_graph': {'ROUGE-1': 0.43678160443387504, 'ROUGE-2': 0.1923076875739646, 'ROUGE-L': 0.43678160443387504}, 'centrality_based': {'ROUGE-1': 0.43678160443387504, 'ROUGE-2': 0.1923076875739646, 'ROUGE-L': 0.43678160443387504}}, {'voting_based': {'ROUGE-1': 0.24999999525826452, 'ROUGE-2': 0.03738317284304366, 'ROUGE-L': 0.24999999525826452}, 'ranked_list': {'ROUGE-1': 0.3124999960986329, 'ROUGE-2': 0.08484848111368243, 'ROUGE-L': 0.2812499960986328}, 'simple_graph': {'ROUGE-1': 0.33684210066703607, 'ROUGE-2': 0.08403360892874821, 'ROUGE-L': 0.27368420593019394}, 'centrality_based': {'ROUGE-1': 0.33684210066703607, 'ROUGE-2': 0.08333332883472247, 'ROUGE-L': 0.31578946908808864}}, {'voting_based': {'ROUGE-1': 0.22680411886491667, 'ROUGE-2': 0.05405404914536203, 'ROUGE-L': 0.20618556216388575}, 'ranked_list': {'ROUGE-1': 0.28571428088296547, 'ROUGE-2': 0.13559321551278383, 'ROUGE-L': 0.24489795435235326}, 'simple_graph': {'ROUGE-1': 0.28571428088296547, 'ROUGE-2': 0.13559321551278383, 'ROUGE-L': 0.24489795435235326}, 'centrality_based': {'ROUGE-1': 0.2777777728395062, 'ROUGE-2': 0.11904761414966007, 'ROUGE-L': 0.2777777728395062}}, {'voting_based': {'ROUGE-1': 0.6304347776299624, 'ROUGE-2': 0.38775509704289884, 'ROUGE-L': 0.6304347776299624}, 'ranked_list': {'ROUGE-1': 0.47540983125907016, 'ROUGE-2': 0.2676056292402302, 'ROUGE-L': 0.47540983125907016}, 'simple_graph': {'ROUGE-1': 0.6304347776299624, 'ROUGE-2': 0.38775509704289884, 'ROUGE-L': 0.6304347776299624}, 'centrality_based': {'ROUGE-1': 0.5799999950020001, 'ROUGE-2': 0.34234233739144554, 'ROUGE-L': 0.5799999950020001}}, {'voting_based': {'ROUGE-1': 0.1682242942580139, 'ROUGE-2': 0.0, 'ROUGE-L': 0.1308411166879205}, 'ranked_list': {'ROUGE-1': 0.18791945898112708, 'ROUGE-2': 0.0662983386966212, 'ROUGE-L': 0.14765100260528818}, 'simple_graph': {'ROUGE-1': 0.21582733385642575, 'ROUGE-2': 0.07017543461030767, 'ROUGE-L': 0.18705035543915957}, 'centrality_based': {'ROUGE-1': 0.21582733385642575, 'ROUGE-2': 0.07017543461030767, 'ROUGE-L': 0.18705035543915957}}, {'voting_based': {'ROUGE-1': 0.41121494907852213, 'ROUGE-2': 0.22399999603968004, 'ROUGE-L': 0.35514018272338194}, 'ranked_list': {'ROUGE-1': 0.36065573383499056, 'ROUGE-2': 0.18543046008683833, 'ROUGE-L': 0.3442622912120398}, 'simple_graph': {'ROUGE-1': 0.06666666168888927, 'ROUGE-2': 0.0, 'ROUGE-L': 0.06666666168888927}, 'centrality_based': {'ROUGE-1': 0.41121494907852213, 'ROUGE-2': 0.2222222182816831, 'ROUGE-L': 0.39252336029347545}}, {'voting_based': {'ROUGE-1': 0.21052631154792253, 'ROUGE-2': 0.035714281876594804, 'ROUGE-L': 0.14736841681108045}, 'ranked_list': {'ROUGE-1': 0.18571428242959187, 'ROUGE-2': 0.023255811149946258, 'ROUGE-L': 0.15714285385816334}, 'simple_graph': {'ROUGE-1': 0.22222221725371644, 'ROUGE-2': 0.0, 'ROUGE-L': 0.22222221725371644}, 'centrality_based': {'ROUGE-1': 0.24999999537812506, 'ROUGE-2': 0.0, 'ROUGE-L': 0.22499999537812512}}, {'voting_based': {'ROUGE-1': 0.2678571380867347, 'ROUGE-2': 0.06557376583579717, 'ROUGE-L': 0.2142857095153062}, 'ranked_list': {'ROUGE-1': 0.25563909331675055, 'ROUGE-2': 0.0736196279047012, 'ROUGE-L': 0.22556390534682574}, 'simple_graph': {'ROUGE-1': 0.29032257606659734, 'ROUGE-2': 0.07843136839677069, 'ROUGE-L': 0.25806451155046833}, 'centrality_based': {'ROUGE-1': 0.33333332842752794, 'ROUGE-2': 0.0983606510816987, 'ROUGE-L': 0.2941176421530181}}, {'voting_based': {'ROUGE-1': 0.1967213065842517, 'ROUGE-2': 0.06349205864449521, 'ROUGE-L': 0.16393442133835004}, 'ranked_list': {'ROUGE-1': 0.27272726793646695, 'ROUGE-2': 0.04210525840221661, 'ROUGE-L': 0.20454544975464886}, 'simple_graph': {'ROUGE-1': 0.1724137883174793, 'ROUGE-2': 0.06666666193888922, 'ROUGE-L': 0.1724137883174793}, 'centrality_based': {'ROUGE-1': 0.1967213065842517, 'ROUGE-2': 0.062499995122070696, 'ROUGE-L': 0.1967213065842517}}, {'voting_based': {'ROUGE-1': 0.14678898640181817, 'ROUGE-2': 0.03305784699405833, 'ROUGE-L': 0.12844036254860716}, 'ranked_list': {'ROUGE-1': 0.19417475273447082, 'ROUGE-2': 0.03278688101988767, 'ROUGE-L': 0.17475727700631552}, 'simple_graph': {'ROUGE-1': 0.15789473185595584, 'ROUGE-2': 0.04819276614312723, 'ROUGE-L': 0.15789473185595584}, 'centrality_based': {'ROUGE-1': 0.19417475273447082, 'ROUGE-2': 0.03278688101988767, 'ROUGE-L': 0.17475727700631552}}, {'voting_based': {'ROUGE-1': 0.25882352466159175, 'ROUGE-2': 0.05769230300480808, 'ROUGE-L': 0.18823528936747416}, 'ranked_list': {'ROUGE-1': 0.24175823713561168, 'ROUGE-2': 0.07272726815041351, 'ROUGE-L': 0.24175823713561168}, 'simple_graph': {'ROUGE-1': 0.2622950770008063, 'ROUGE-2': 0.05633802321761599, 'ROUGE-L': 0.2622950770008063}, 'centrality_based': {'ROUGE-1': 0.2812499950048829, 'ROUGE-2': 0.07792207292292155, 'ROUGE-L': 0.2812499950048829}}]\n"
     ]
    }
   ],
   "source": [
    "print(test_scores)\n"
   ]
  },
  {
   "cell_type": "code",
   "execution_count": 25,
   "id": "e787901c",
   "metadata": {},
   "outputs": [],
   "source": [
    "rouge1_scores = [score['rouge-1']['f'] if 'rouge-1' in score else None for score in test_scores]\n",
    "rouge2_scores = [score['rouge-2']['f'] if 'rouge-2' in score else None for score in test_scores]\n",
    "rougeL_scores = [score['rouge-l']['f'] if 'rouge-l' in score else None for score in test_scores]\n"
   ]
  },
  {
   "cell_type": "code",
   "execution_count": 26,
   "id": "f52bea57",
   "metadata": {},
   "outputs": [],
   "source": [
    "rouge1_scores = list(filter(None, rouge1_scores))\n",
    "rouge2_scores = list(filter(None, rouge2_scores))\n",
    "rougeL_scores = list(filter(None, rougeL_scores))\n"
   ]
  },
  {
   "cell_type": "code",
   "execution_count": 27,
   "id": "0f2811e7",
   "metadata": {},
   "outputs": [
    {
     "name": "stdout",
     "output_type": "stream",
     "text": [
      "ROUGE-1 Mean (voting_based): 0.25554498380835494\n",
      "ROUGE-1 Median (voting_based): 0.24428903946234598\n",
      "ROUGE-1 Std Dev (voting_based): 0.12232139462647708\n"
     ]
    }
   ],
   "source": [
    "# with out loop    # Extract scores for the 'voting_based' method\n",
    "rouge1_scores = [score['voting_based']['ROUGE-1'] for score in test_scores]\n",
    "rouge2_scores = [score['voting_based']['ROUGE-2'] for score in test_scores]\n",
    "rougeL_scores = [score['voting_based']['ROUGE-L'] for score in test_scores]\n",
    "\n",
    "print(\"ROUGE-1 Mean (voting_based):\", np.mean(rouge1_scores))\n",
    "print(\"ROUGE-1 Median (voting_based):\", np.median(rouge1_scores))\n",
    "print(\"ROUGE-1 Std Dev (voting_based):\", np.std(rouge1_scores))\n",
    "\n",
    "# You can repeat this for other methods as well\n"
   ]
  },
  {
   "cell_type": "code",
   "execution_count": 28,
   "id": "c79a6332",
   "metadata": {},
   "outputs": [],
   "source": [
    "# analysing the structure of outputprint(test_scores[:5])\n"
   ]
  },
  {
   "cell_type": "code",
   "execution_count": 29,
   "id": "6d79672a",
   "metadata": {},
   "outputs": [
    {
     "name": "stdout",
     "output_type": "stream",
     "text": [
      "ROUGE-1 Mean (voting_based): 0.25554498380835494\n",
      "ROUGE-1 Median (voting_based): 0.24428903946234598\n",
      "ROUGE-1 Std Dev (voting_based): 0.12232139462647708\n",
      "-----\n",
      "ROUGE-1 Mean (ranked_list): 0.2623842483163425\n",
      "ROUGE-1 Median (ranked_list): 0.25825432697293105\n",
      "ROUGE-1 Std Dev (ranked_list): 0.10530922024486357\n",
      "-----\n",
      "ROUGE-1 Mean (simple_graph): 0.26750051385652845\n",
      "ROUGE-1 Median (simple_graph): 0.2594670358642203\n",
      "ROUGE-1 Std Dev (simple_graph): 0.11912635187573213\n",
      "-----\n",
      "ROUGE-1 Mean (centrality_based): 0.2827590905529946\n",
      "ROUGE-1 Median (centrality_based): 0.27545596245045384\n",
      "ROUGE-1 Std Dev (centrality_based): 0.11938814953893016\n",
      "-----\n"
     ]
    }
   ],
   "source": [
    "methods = ['voting_based', 'ranked_list', 'simple_graph', 'centrality_based']\n",
    "\n",
    "for method in methods:\n",
    "    rouge1_scores = [score[method]['ROUGE-1'] for score in test_scores]\n",
    "    rouge2_scores = [score[method]['ROUGE-2'] for score in test_scores]\n",
    "    rougeL_scores = [score[method]['ROUGE-L'] for score in test_scores]\n",
    "    \n",
    "    print(f\"ROUGE-1 Mean ({method}):\", np.mean(rouge1_scores))\n",
    "    print(f\"ROUGE-1 Median ({method}):\", np.median(rouge1_scores))\n",
    "    print(f\"ROUGE-1 Std Dev ({method}):\", np.std(rouge1_scores))\n",
    "    print(\"-----\")\n",
    "\n"
   ]
  },
  {
   "cell_type": "code",
   "execution_count": 30,
   "id": "31c6ccc4",
   "metadata": {},
   "outputs": [
    {
     "data": {
      "image/png": "[encoded data removed]",
      "text/plain": [
       "<Figure size 432x288 with 1 Axes>"
      ]
     },
     "metadata": {
      "needs_background": "light"
     },
     "output_type": "display_data"
    }
   ],
   "source": [
    "import matplotlib.pyplot as plt\n",
    "\n",
    "plt.hist(rouge1_scores, bins=10, alpha=0.7, label='ROUGE-1')\n",
    "plt.hist(rouge2_scores, bins=10, alpha=0.7, label='ROUGE-2')\n",
    "plt.hist(rougeL_scores, bins=10, alpha=0.7, label='ROUGE-L')\n",
    "plt.legend(loc='upper right')\n",
    "plt.title('Distribution of ROUGE Scores')\n",
    "plt.xlabel('Score')\n",
    "plt.ylabel('Frequency')\n",
    "plt.show()\n"
   ]
  },
  {
   "cell_type": "code",
   "execution_count": 31,
   "id": "ca5c81f9",
   "metadata": {},
   "outputs": [
    {
     "name": "stdout",
     "output_type": "stream",
     "text": [
      "Requirement already satisfied: transformers in c:\\users\\athir\\anaconda3\\lib\\site-packages (4.33.1)\n",
      "Requirement already satisfied: huggingface-hub<1.0,>=0.15.1 in c:\\users\\athir\\anaconda3\\lib\\site-packages (from transformers) (0.16.4)\n",
      "Requirement already satisfied: regex!=2019.12.17 in c:\\users\\athir\\anaconda3\\lib\\site-packages (from transformers) (2022.3.15)\n",
      "Requirement already satisfied: filelock in c:\\users\\athir\\anaconda3\\lib\\site-packages (from transformers) (3.6.0)\n",
      "Requirement already satisfied: safetensors>=0.3.1 in c:\\users\\athir\\anaconda3\\lib\\site-packages (from transformers) (0.3.3)\n",
      "Requirement already satisfied: numpy>=1.17 in c:\\users\\athir\\anaconda3\\lib\\site-packages (from transformers) (1.22.4)\n",
      "Requirement already satisfied: packaging>=20.0 in c:\\users\\athir\\anaconda3\\lib\\site-packages (from transformers) (21.3)\n",
      "Requirement already satisfied: tqdm>=4.27 in c:\\users\\athir\\anaconda3\\lib\\site-packages (from transformers) (4.64.0)\n",
      "Requirement already satisfied: tokenizers!=0.11.3,<0.14,>=0.11.1 in c:\\users\\athir\\anaconda3\\lib\\site-packages (from transformers) (0.13.3)\n",
      "Requirement already satisfied: requests in c:\\users\\athir\\anaconda3\\lib\\site-packages (from transformers) (2.27.1)\n",
      "Requirement already satisfied: pyyaml>=5.1 in c:\\users\\athir\\anaconda3\\lib\\site-packages (from transformers) (6.0)\n",
      "Requirement already satisfied: typing-extensions>=3.7.4.3 in c:\\users\\athir\\anaconda3\\lib\\site-packages (from huggingface-hub<1.0,>=0.15.1->transformers) (4.8.0)\n",
      "Requirement already satisfied: fsspec in c:\\users\\athir\\anaconda3\\lib\\site-packages (from huggingface-hub<1.0,>=0.15.1->transformers) (2023.6.0)\n",
      "Requirement already satisfied: pyparsing!=3.0.5,>=2.0.2 in c:\\users\\athir\\anaconda3\\lib\\site-packages (from packaging>=20.0->transformers) (3.0.4)\n",
      "Requirement already satisfied: colorama in c:\\users\\athir\\anaconda3\\lib\\site-packages (from tqdm>=4.27->transformers) (0.4.6)\n",
      "Requirement already satisfied: urllib3<1.27,>=1.21.1 in c:\\users\\athir\\anaconda3\\lib\\site-packages (from requests->transformers) (1.26.9)\n",
      "Requirement already satisfied: charset-normalizer~=2.0.0 in c:\\users\\athir\\anaconda3\\lib\\site-packages (from requests->transformers) (2.0.4)\n",
      "Requirement already satisfied: certifi>=2017.4.17 in c:\\users\\athir\\anaconda3\\lib\\site-packages (from requests->transformers) (2021.10.8)\n",
      "Requirement already satisfied: idna<4,>=2.5 in c:\\users\\athir\\anaconda3\\lib\\site-packages (from requests->transformers) (3.3)\n"
     ]
    }
   ],
   "source": [
    "!pip install transformers\n",
    "import torch\n",
    "from transformers import T5Tokenizer, T5ForConditionalGeneration\n"
   ]
  },
  {
   "cell_type": "code",
   "execution_count": 32,
   "id": "c0d943ff",
   "metadata": {},
   "outputs": [
    {
     "name": "stdout",
     "output_type": "stream",
     "text": [
      "Requirement already satisfied: transformers in c:\\users\\athir\\anaconda3\\lib\\site-packages (4.33.1)\n",
      "Requirement already satisfied: packaging>=20.0 in c:\\users\\athir\\anaconda3\\lib\\site-packages (from transformers) (21.3)\n",
      "Requirement already satisfied: numpy>=1.17 in c:\\users\\athir\\anaconda3\\lib\\site-packages (from transformers) (1.22.4)\n",
      "Requirement already satisfied: huggingface-hub<1.0,>=0.15.1 in c:\\users\\athir\\anaconda3\\lib\\site-packages (from transformers) (0.16.4)\n",
      "Requirement already satisfied: tqdm>=4.27 in c:\\users\\athir\\anaconda3\\lib\\site-packages (from transformers) (4.64.0)\n",
      "Requirement already satisfied: safetensors>=0.3.1 in c:\\users\\athir\\anaconda3\\lib\\site-packages (from transformers) (0.3.3)\n",
      "Requirement already satisfied: pyyaml>=5.1 in c:\\users\\athir\\anaconda3\\lib\\site-packages (from transformers) (6.0)\n",
      "Requirement already satisfied: filelock in c:\\users\\athir\\anaconda3\\lib\\site-packages (from transformers) (3.6.0)\n",
      "Requirement already satisfied: requests in c:\\users\\athir\\anaconda3\\lib\\site-packages (from transformers) (2.27.1)\n",
      "Requirement already satisfied: tokenizers!=0.11.3,<0.14,>=0.11.1 in c:\\users\\athir\\anaconda3\\lib\\site-packages (from transformers) (0.13.3)\n",
      "Requirement already satisfied: regex!=2019.12.17 in c:\\users\\athir\\anaconda3\\lib\\site-packages (from transformers) (2022.3.15)\n",
      "Requirement already satisfied: fsspec in c:\\users\\athir\\anaconda3\\lib\\site-packages (from huggingface-hub<1.0,>=0.15.1->transformers) (2023.6.0)\n",
      "Requirement already satisfied: typing-extensions>=3.7.4.3 in c:\\users\\athir\\anaconda3\\lib\\site-packages (from huggingface-hub<1.0,>=0.15.1->transformers) (4.8.0)\n",
      "Requirement already satisfied: pyparsing!=3.0.5,>=2.0.2 in c:\\users\\athir\\anaconda3\\lib\\site-packages (from packaging>=20.0->transformers) (3.0.4)\n",
      "Requirement already satisfied: colorama in c:\\users\\athir\\anaconda3\\lib\\site-packages (from tqdm>=4.27->transformers) (0.4.6)\n",
      "Requirement already satisfied: certifi>=2017.4.17 in c:\\users\\athir\\anaconda3\\lib\\site-packages (from requests->transformers) (2021.10.8)\n",
      "Requirement already satisfied: urllib3<1.27,>=1.21.1 in c:\\users\\athir\\anaconda3\\lib\\site-packages (from requests->transformers) (1.26.9)\n",
      "Requirement already satisfied: idna<4,>=2.5 in c:\\users\\athir\\anaconda3\\lib\\site-packages (from requests->transformers) (3.3)\n",
      "Requirement already satisfied: charset-normalizer~=2.0.0 in c:\\users\\athir\\anaconda3\\lib\\site-packages (from requests->transformers) (2.0.4)\n",
      "Requirement already satisfied: torch in c:\\users\\athir\\anaconda3\\lib\\site-packages (2.1.0)\n",
      "Requirement already satisfied: typing-extensions in c:\\users\\athir\\anaconda3\\lib\\site-packages (from torch) (4.8.0)\n",
      "Requirement already satisfied: networkx in c:\\users\\athir\\anaconda3\\lib\\site-packages (from torch) (3.2.1)\n",
      "Requirement already satisfied: fsspec in c:\\users\\athir\\anaconda3\\lib\\site-packages (from torch) (2023.6.0)\n",
      "Requirement already satisfied: sympy in c:\\users\\athir\\anaconda3\\lib\\site-packages (from torch) (1.10.1)\n",
      "Requirement already satisfied: jinja2 in c:\\users\\athir\\anaconda3\\lib\\site-packages (from torch) (2.11.3)\n",
      "Requirement already satisfied: filelock in c:\\users\\athir\\anaconda3\\lib\\site-packages (from torch) (3.6.0)\n",
      "Requirement already satisfied: MarkupSafe>=0.23 in c:\\users\\athir\\anaconda3\\lib\\site-packages (from jinja2->torch) (2.0.1)\n",
      "Requirement already satisfied: mpmath>=0.19 in c:\\users\\athir\\anaconda3\\lib\\site-packages (from sympy->torch) (1.2.1)\n"
     ]
    }
   ],
   "source": [
    "!pip install transformers\n",
    "!pip install torch\n"
   ]
  },
  {
   "cell_type": "code",
   "execution_count": 33,
   "id": "954a9e21",
   "metadata": {},
   "outputs": [
    {
     "name": "stdout",
     "output_type": "stream",
     "text": [
      "Requirement already satisfied: sentencepiece in c:\\users\\athir\\anaconda3\\lib\\site-packages (0.1.99)\n"
     ]
    }
   ],
   "source": [
    "!pip install sentencepiece\n"
   ]
  },
  {
   "cell_type": "code",
   "execution_count": 34,
   "id": "4563d410",
   "metadata": {},
   "outputs": [
    {
     "data": {
      "application/vnd.jupyter.widget-view+json": {
       "model_id": "b68673eacc9a4a7fb3dac89860203b32",
       "version_major": 2,
       "version_minor": 0
      },
      "text/plain": [
       "Downloading (…)ve/main/spiece.model:   0%|          | 0.00/792k [00:00<?, ?B/s]"
      ]
     },
     "metadata": {},
     "output_type": "display_data"
    },
    {
     "name": "stderr",
     "output_type": "stream",
     "text": [
      "C:\\Users\\athir\\anaconda3\\lib\\site-packages\\huggingface_hub\\file_download.py:133: UserWarning: `huggingface_hub` cache-system uses symlinks by default to efficiently store duplicated files but your machine does not support them in C:\\Users\\athir\\.cache\\huggingface\\hub. Caching files will still work but in a degraded version that might require more space on your disk. This warning can be disabled by setting the `HF_HUB_DISABLE_SYMLINKS_WARNING` environment variable. For more details, see https://huggingface.co/docs/huggingface_hub/how-to-cache#limitations.\n",
      "To support symlinks on Windows, you either need to activate Developer Mode or to run Python as an administrator. In order to see activate developer mode, see this article: https://docs.microsoft.com/en-us/windows/apps/get-started/enable-your-device-for-development\n",
      "  warnings.warn(message)\n"
     ]
    },
    {
     "data": {
      "application/vnd.jupyter.widget-view+json": {
       "model_id": "ec4752ce308248b0af321a6aa6cb7361",
       "version_major": 2,
       "version_minor": 0
      },
      "text/plain": [
       "Downloading (…)okenizer_config.json:   0%|          | 0.00/2.32k [00:00<?, ?B/s]"
      ]
     },
     "metadata": {},
     "output_type": "display_data"
    },
    {
     "name": "stderr",
     "output_type": "stream",
     "text": [
      "You are using the default legacy behaviour of the <class 'transformers.models.t5.tokenization_t5.T5Tokenizer'>. If you see this, DO NOT PANIC! This is expected, and simply means that the `legacy` (previous) behavior will be used so nothing changes for you. If you want to use the new behaviour, set `legacy=False`. This should only be set if you understand what it means, and thouroughly read the reason why this was added as explained in https://github.com/huggingface/transformers/pull/24565\n"
     ]
    },
    {
     "data": {
      "application/vnd.jupyter.widget-view+json": {
       "model_id": "fcdbe84db7044f1fbaf6bb018731681c",
       "version_major": 2,
       "version_minor": 0
      },
      "text/plain": [
       "Downloading (…)lve/main/config.json:   0%|          | 0.00/1.21k [00:00<?, ?B/s]"
      ]
     },
     "metadata": {},
     "output_type": "display_data"
    },
    {
     "data": {
      "application/vnd.jupyter.widget-view+json": {
       "model_id": "811d9e0545104603a1f205c8609c61f3",
       "version_major": 2,
       "version_minor": 0
      },
      "text/plain": [
       "Downloading model.safetensors:   0%|          | 0.00/242M [00:00<?, ?B/s]"
      ]
     },
     "metadata": {},
     "output_type": "display_data"
    },
    {
     "data": {
      "application/vnd.jupyter.widget-view+json": {
       "model_id": "acee6f6af34d415ab059fbbd051d0800",
       "version_major": 2,
       "version_minor": 0
      },
      "text/plain": [
       "Downloading (…)neration_config.json:   0%|          | 0.00/147 [00:00<?, ?B/s]"
      ]
     },
     "metadata": {},
     "output_type": "display_data"
    }
   ],
   "source": [
    "tokenizer = T5Tokenizer.from_pretrained('t5-small')\n",
    "model = T5ForConditionalGeneration.from_pretrained('t5-small')\n",
    "model = model.cuda() if torch.cuda.is_available() else model\n"
   ]
  },
  {
   "cell_type": "code",
   "execution_count": 42,
   "id": "eb3b03c7",
   "metadata": {},
   "outputs": [
    {
     "ename": "NameError",
     "evalue": "name 'rule_based_summaries' is not defined",
     "output_type": "error",
     "traceback": [
      "\u001b[1;31m---------------------------------------------------------------------------\u001b[0m",
      "\u001b[1;31mNameError\u001b[0m                                 Traceback (most recent call last)",
      "Input \u001b[1;32mIn [42]\u001b[0m, in \u001b[0;36m<cell line: 20>\u001b[1;34m()\u001b[0m\n\u001b[0;32m     18\u001b[0m \u001b[38;5;66;03m# Assuming articles and rule_based_summaries are your datasets\u001b[39;00m\n\u001b[0;32m     19\u001b[0m input_ids, masks, labels \u001b[38;5;241m=\u001b[39m [], [], []\n\u001b[1;32m---> 20\u001b[0m \u001b[38;5;28;01mfor\u001b[39;00m article, summary \u001b[38;5;129;01min\u001b[39;00m \u001b[38;5;28mzip\u001b[39m(articles, \u001b[43mrule_based_summaries\u001b[49m):\n\u001b[0;32m     21\u001b[0m     i, m, l \u001b[38;5;241m=\u001b[39m encode_data(article, summary)\n\u001b[0;32m     22\u001b[0m     input_ids\u001b[38;5;241m.\u001b[39mappend(i)\n",
      "\u001b[1;31mNameError\u001b[0m: name 'rule_based_summaries' is not defined"
     ]
    }
   ],
   "source": [
    "def encode_data(article, summary):\n",
    "    encoded_text = tokenizer.encode_plus(\n",
    "        f\"summarize: {article}\",\n",
    "        max_length=512,\n",
    "        pad_to_max_length=True,\n",
    "        return_tensors=\"pt\",\n",
    "        truncation=True\n",
    "    )\n",
    "    encoded_summary = tokenizer.encode(\n",
    "        summary,\n",
    "        max_length=150,\n",
    "        pad_to_max_length=True,\n",
    "        return_tensors=\"pt\",\n",
    "        truncation=True\n",
    "    )\n",
    "    return encoded_text[\"input_ids\"], encoded_text[\"attention_mask\"], encoded_summary\n",
    "\n",
    "# Assuming articles and rule_based_summaries are your datasets\n",
    "input_ids, masks, labels = [], [], []\n",
    "for article, summary in zip(articles, rule_based_summaries):\n",
    "    i, m, l = encode_data(article, summary)\n",
    "    input_ids.append(i)\n",
    "    masks.append(m)\n",
    "    labels.append(l)\n",
    "\n",
    "input_ids = torch.cat(input_ids, dim=0)\n",
    "masks = torch.cat(masks, dim=0)\n",
    "labels = torch.cat(labels, dim=0)\n"
   ]
  },
  {
   "cell_type": "code",
   "execution_count": null,
   "id": "e2fd581d",
   "metadata": {},
   "outputs": [],
   "source": []
  },
  {
   "cell_type": "code",
   "execution_count": null,
   "id": "b37bb822",
   "metadata": {},
   "outputs": [],
   "source": []
  }
 ],
 "metadata": {
  "kernelspec": {
   "display_name": "Python 3 (ipykernel)",
   "language": "python",
   "name": "python3"
  },
  "language_info": {
   "codemirror_mode": {
    "name": "ipython",
    "version": 3
   },
   "file_extension": ".py",
   "mimetype": "text/x-python",
   "name": "python",
   "nbconvert_exporter": "python",
   "pygments_lexer": "ipython3",
   "version": "3.9.12"
  }
 },
 "nbformat": 4,
 "nbformat_minor": 5
}
