{
 "cells": [
  {
   "cell_type": "code",
   "execution_count": 4,
   "id": "23edfbbd",
   "metadata": {},
   "outputs": [
    {
     "name": "stdout",
     "output_type": "stream",
     "text": [
      "Requirement already satisfied: pandas in c:\\users\\athir\\anaconda3\\lib\\site-packages (1.4.2)\n",
      "Requirement already satisfied: numpy>=1.18.5 in c:\\users\\athir\\anaconda3\\lib\\site-packages (from pandas) (1.21.5)\n",
      "Requirement already satisfied: pytz>=2020.1 in c:\\users\\athir\\anaconda3\\lib\\site-packages (from pandas) (2021.3)\n",
      "Requirement already satisfied: python-dateutil>=2.8.1 in c:\\users\\athir\\anaconda3\\lib\\site-packages (from pandas) (2.8.2)\n",
      "Requirement already satisfied: six>=1.5 in c:\\users\\athir\\anaconda3\\lib\\site-packages (from python-dateutil>=2.8.1->pandas) (1.16.0)\n",
      "Note: you may need to restart the kernel to use updated packages.\n"
     ]
    }
   ],
   "source": [
    "pip install pandas\n"
   ]
  },
  {
   "cell_type": "code",
   "execution_count": 5,
   "id": "37139d69",
   "metadata": {},
   "outputs": [],
   "source": [
    "import pandas as pd\n"
   ]
  },
  {
   "cell_type": "code",
   "execution_count": 6,
   "id": "652d835a",
   "metadata": {},
   "outputs": [],
   "source": [
    "# Replace 'path_to_your_data_file.csv' with the actual path to your Yoshops.com Sale Order file\n",
    "df = pd.read_csv('orders_2016-2020_Dataset.csv')\n"
   ]
  },
  {
   "cell_type": "code",
   "execution_count": 7,
   "id": "795ffc04",
   "metadata": {},
   "outputs": [
    {
     "name": "stdout",
     "output_type": "stream",
     "text": [
      "      Order #  Order Date and Time Stamp Fulfillment Status Payment Status  \\\n",
      "0  R929392577  09-11-2020 20:36:26 +0530        Unfulfilled         Unpaid   \n",
      "1  R653462960  09-11-2020 20:18:26 +0530        Unfulfilled         Unpaid   \n",
      "2  R226302759  09-11-2020 19:56:21 +0530        Unfulfilled         Unpaid   \n",
      "3  R390235057  09-11-2020 19:37:40 +0530        Unfulfilled         Unpaid   \n",
      "4  R813855117  09-11-2020 18:35:47 +0530          Cancelled           Paid   \n",
      "\n",
      "  Payment Date and Time Stamp Fulfillment Date and Time Stamp Currency  \\\n",
      "0                         NaN                             NaN      INR   \n",
      "1                         NaN                             NaN      INR   \n",
      "2                         NaN                             NaN      INR   \n",
      "3                         NaN                             NaN      INR   \n",
      "4                         NaN                             NaN      INR   \n",
      "\n",
      "   Subtotal Shipping Method Shipping Cost  ... Payment Method Tracking #  \\\n",
      "0  ₹ 799.00      Ships Free        ₹ 0.00  ...            NaN        NaN   \n",
      "1  ₹ 699.00      Ships Free        ₹ 0.00  ...            NaN        NaN   \n",
      "2  ₹ 799.00      Ships Free        ₹ 0.00  ...            NaN        NaN   \n",
      "3  ₹ 599.00      Ships Free        ₹ 0.00  ...            NaN        NaN   \n",
      "4  ₹ 699.00      Ships Free        ₹ 0.00  ...            NaN        NaN   \n",
      "\n",
      "  Special Instructions                                      LineItem Name  \\\n",
      "0                  NaN  Boat Rockerz 530 Bluetooth Headphone with Mic ...   \n",
      "1                  NaN  Samsung U Flex Wireless Bluetooth Flexible Hea...   \n",
      "2                  NaN  Boat Rockerz 530 Bluetooth Headphone with Mic ...   \n",
      "3                  NaN                         JBL Tempo On-Ear Headphone   \n",
      "4                  NaN     Mi Neckband Bluetooth Headset with Mic (Black)   \n",
      "\n",
      "  LineItem SKU LineItem Options LineItem Add-ons LineItem Qty  \\\n",
      "0          NaN              NaN              NaN            1   \n",
      "1  PL000032123              NaN              NaN            1   \n",
      "2          NaN              NaN              NaN            1   \n",
      "3     PL000157              NaN              NaN            1   \n",
      "4  PL000041332              NaN              NaN            1   \n",
      "\n",
      "  LineItem Sale Price LineItem Type  \n",
      "0            ₹ 799.00      physical  \n",
      "1            ₹ 699.00      physical  \n",
      "2            ₹ 799.00      physical  \n",
      "3            ₹ 599.00      physical  \n",
      "4            ₹ 699.00      physical  \n",
      "\n",
      "[5 rows x 41 columns]\n",
      "       Gift Cards  Special Instructions  LineItem Qty\n",
      "count         0.0                   0.0   2297.000000\n",
      "mean          NaN                   NaN      3.740531\n",
      "std           NaN                   NaN     46.748117\n",
      "min           NaN                   NaN      1.000000\n",
      "25%           NaN                   NaN      1.000000\n",
      "50%           NaN                   NaN      1.000000\n",
      "75%           NaN                   NaN      1.000000\n",
      "max           NaN                   NaN    999.000000\n",
      "<class 'pandas.core.frame.DataFrame'>\n",
      "RangeIndex: 2297 entries, 0 to 2296\n",
      "Data columns (total 41 columns):\n",
      " #   Column                           Non-Null Count  Dtype  \n",
      "---  ------                           --------------  -----  \n",
      " 0   Order #                          2297 non-null   object \n",
      " 1   Order Date and Time Stamp        2297 non-null   object \n",
      " 2   Fulfillment Status               2297 non-null   object \n",
      " 3   Payment Status                   2297 non-null   object \n",
      " 4   Payment Date and Time Stamp      240 non-null    object \n",
      " 5   Fulfillment Date and Time Stamp  229 non-null    object \n",
      " 6   Currency                         2297 non-null   object \n",
      " 7   Subtotal                         2297 non-null   object \n",
      " 8   Shipping Method                  2297 non-null   object \n",
      " 9   Shipping Cost                    2297 non-null   object \n",
      " 10  Tax Method                       1 non-null      object \n",
      " 11  Taxes                            2297 non-null   object \n",
      " 12  Total                            2297 non-null   object \n",
      " 13  Coupon Code                      157 non-null    object \n",
      " 14  Coupon Code Name                 157 non-null    object \n",
      " 15  Discount                         2297 non-null   object \n",
      " 16  Billing Name                     330 non-null    object \n",
      " 17  Billing Country                  330 non-null    object \n",
      " 18  Billing Street Address           330 non-null    object \n",
      " 19  Billing Street Address 2         197 non-null    object \n",
      " 20  Billing City                     330 non-null    object \n",
      " 21  Billing State                    322 non-null    object \n",
      " 22  Billing Zip                      330 non-null    object \n",
      " 23  Shipping Name                    2297 non-null   object \n",
      " 24  Shipping Country                 2297 non-null   object \n",
      " 25  Shipping Street Address          2279 non-null   object \n",
      " 26  Shipping Street Address 2        1526 non-null   object \n",
      " 27  Shipping City                    2279 non-null   object \n",
      " 28  Shipping State                   2276 non-null   object \n",
      " 29  Shipping Zip                     2276 non-null   object \n",
      " 30  Gift Cards                       0 non-null      float64\n",
      " 31  Payment Method                   240 non-null    object \n",
      " 32  Tracking #                       83 non-null     object \n",
      " 33  Special Instructions             0 non-null      float64\n",
      " 34  LineItem Name                    2297 non-null   object \n",
      " 35  LineItem SKU                     2208 non-null   object \n",
      " 36  LineItem Options                 169 non-null    object \n",
      " 37  LineItem Add-ons                 91 non-null     object \n",
      " 38  LineItem Qty                     2297 non-null   int64  \n",
      " 39  LineItem Sale Price              2297 non-null   object \n",
      " 40  LineItem Type                    2297 non-null   object \n",
      "dtypes: float64(2), int64(1), object(38)\n",
      "memory usage: 735.9+ KB\n",
      "None\n"
     ]
    }
   ],
   "source": [
    "# Display the first few rows of the DataFrame to get an idea of the data structure\n",
    "print(df.head())\n",
    "\n",
    "# Check the basic statistics of the numerical columns\n",
    "print(df.describe())\n",
    "\n",
    "# Check the data types and missing values in each column\n",
    "print(df.info())\n"
   ]
  },
  {
   "cell_type": "code",
   "execution_count": 8,
   "id": "827e4d41",
   "metadata": {},
   "outputs": [],
   "source": [
    "# Assuming 'Order Date and Time Stamp', 'Payment Date and Time Stamp', and 'Fulfillment Date and Time Stamp' are date-time columns\n",
    "date_time_columns = ['Order Date and Time Stamp', 'Payment Date and Time Stamp', 'Fulfillment Date and Time Stamp']\n",
    "\n",
    "# Convert date-time columns to appropriate datetime data type\n",
    "for col in date_time_columns:\n",
    "    df[col] = pd.to_datetime(df[col])\n"
   ]
  },
  {
   "cell_type": "code",
   "execution_count": 9,
   "id": "934b3a22",
   "metadata": {},
   "outputs": [],
   "source": [
    "# Fill missing values in specific columns with appropriate values or strategies\n",
    "# For example, you can fill missing payment method with \"Not Provided\"\n",
    "df['Payment Method'].fillna('Not Provided', inplace=True)\n",
    "\n",
    "# Drop columns with mostly missing values (you can adjust the threshold as needed)\n",
    "df.drop(columns=['Tax Method', 'Gift Cards', 'Special Instructions', 'Coupon Code', 'Coupon Code Name', 'LineItem Options', 'LineItem Add-ons'], inplace=True)\n",
    "\n",
    "# Drop rows with missing values in 'Shipping Street Address', 'Shipping City', 'Shipping State', and 'Shipping Zip'\n",
    "df.dropna(subset=['Shipping Street Address', 'Shipping City', 'Shipping State', 'Shipping Zip'], inplace=True)\n"
   ]
  },
  {
   "cell_type": "code",
   "execution_count": 10,
   "id": "c85f72d2",
   "metadata": {},
   "outputs": [],
   "source": [
    "# Assuming 'Subtotal', 'Shipping Cost', 'Taxes', 'Total', 'Discount', and 'LineItem Sale Price' are monetary columns\n",
    "monetary_columns = ['Subtotal', 'Shipping Cost', 'Taxes', 'Total', 'Discount', 'LineItem Sale Price']\n",
    "\n",
    "# Remove the currency symbol and convert to numeric data type (float)\n",
    "for col in monetary_columns:\n",
    "    df[col] = df[col].str.replace('₹', '').str.replace(',', '').astype(float)\n"
   ]
  },
  {
   "cell_type": "code",
   "execution_count": 11,
   "id": "f606f4ca",
   "metadata": {},
   "outputs": [],
   "source": [
    "# Assuming 'Tracking #' column is not relevant for our analysis\n",
    "df.drop(columns=['Tracking #'], inplace=True)\n"
   ]
  },
  {
   "cell_type": "code",
   "execution_count": 14,
   "id": "37ddd89b",
   "metadata": {},
   "outputs": [],
   "source": [
    "#Step 2 \n",
    "# 1. The shipping address differs from the billing address.\n",
    "df['address_match'] = df['Shipping Street Address'] == df['Billing Street Address']\n",
    "address_mismatch_cases = df[df['address_match'] == False]"
   ]
  },
  {
   "cell_type": "code",
   "execution_count": 16,
   "id": "4f2728ad",
   "metadata": {},
   "outputs": [],
   "source": [
    "# 2. Multiple orders of the same item.\n",
    "multiple_item_orders = df[df.duplicated(subset=['LineItem Name'], keep=False)]\n"
   ]
  },
  {
   "cell_type": "code",
   "execution_count": 17,
   "id": "8b629b11",
   "metadata": {},
   "outputs": [],
   "source": [
    "# 3. Unusually large orders.\n",
    "# Determine what can be considered \"unusually large\" based on statistical analysis of order quantities or order amounts.\n",
    "# For example, we can use the 99th percentile as a threshold for large orders.\n",
    "order_quantity_threshold = df['LineItem Qty'].quantile(0.99)\n",
    "unusually_large_orders = df[df['LineItem Qty'] > order_quantity_threshold]\n"
   ]
  },
  {
   "cell_type": "code",
   "execution_count": 18,
   "id": "da305322",
   "metadata": {},
   "outputs": [],
   "source": [
    "# 4. Multiple orders to the same address with different payment method.\n",
    "multiple_payment_orders = df[df.duplicated(subset=['Shipping Street Address'], keep=False)]"
   ]
  },
  {
   "cell_type": "code",
   "execution_count": 19,
   "id": "85107cb4",
   "metadata": {},
   "outputs": [],
   "source": [
    "# 5. Unexpected international orders.\n",
    "# Assuming 'Shipping Country' column contains the country information in the shipping address\n",
    "expected_countries = ['Country1', 'Country2', 'Country3']  # Replace with the countries you expect most orders from\n",
    "unexpected_international_orders = df[~df['Shipping Country'].isin(expected_countries)]"
   ]
  },
  {
   "cell_type": "code",
   "execution_count": 20,
   "id": "f5551515",
   "metadata": {},
   "outputs": [],
   "source": [
    "#Step 3\n",
    "import pandas as pd\n",
    "import matplotlib.pyplot as plt\n",
    "import seaborn as sns"
   ]
  },
  {
   "cell_type": "code",
   "execution_count": 21,
   "id": "d4de3c06",
   "metadata": {},
   "outputs": [
    {
     "data": {
      "image/png": "[encoded data removed]",
      "text/plain": [
       "<Figure size 720x432 with 1 Axes>"
      ]
     },
     "metadata": {
      "needs_background": "light"
     },
     "output_type": "display_data"
    }
   ],
   "source": [
    "# Step 2: Perform Exploratory Data Analysis (EDA)\n",
    "# Code for input values (1 to 5) as mentioned in the previous responses\n",
    "\n",
    "# Step 3: Generate PDF and CSV files\n",
    "\n",
    "# 1. Generate PDF report using matplotlib and seaborn\n",
    "\n",
    "# Example plot for Address Mismatch Cases (Input value 1)\n",
    "\n",
    "plt.figure(figsize=(10, 6))\n",
    "sns.countplot(data=address_mismatch_cases, x='address_match')\n",
    "plt.title('Shipping Address Mismatch Billing Address')\n",
    "plt.savefig('address_mismatch_plot.pdf')\n"
   ]
  },
  {
   "cell_type": "code",
   "execution_count": 22,
   "id": "1413bc67",
   "metadata": {},
   "outputs": [],
   "source": [
    "# Add more plots for other identified cases (Input values 2 to 5) using similar code structure.\n",
    "\n",
    "# 2. Save the identified cases into separate CSV files\n",
    "\n",
    "# Address Mismatch Cases (Input value 1)\n",
    "address_mismatch_cases.to_csv('address_mismatch_cases.csv', index=False)\n"
   ]
  },
  {
   "cell_type": "code",
   "execution_count": 23,
   "id": "3ef28d87",
   "metadata": {},
   "outputs": [],
   "source": [
    "# Multiple Item Orders (Input value 2)\n",
    "multiple_item_orders.to_csv('multiple_item_orders.csv', index=False)"
   ]
  },
  {
   "cell_type": "code",
   "execution_count": 24,
   "id": "e8d76884",
   "metadata": {},
   "outputs": [],
   "source": [
    "# Unusually Large Orders (Input value 3)\n",
    "unusually_large_orders.to_csv('unusually_large_orders.csv', index=False)\n"
   ]
  },
  {
   "cell_type": "code",
   "execution_count": 25,
   "id": "9d737fe0",
   "metadata": {},
   "outputs": [],
   "source": [
    "# Multiple Payment Orders (Input value 4)\n",
    "multiple_payment_orders.to_csv('multiple_payment_orders.csv', index=False)"
   ]
  },
  {
   "cell_type": "code",
   "execution_count": 28,
   "id": "2924913b",
   "metadata": {},
   "outputs": [],
   "source": [
    "#Unexpected International Orders (Input value 5)\n",
    "unexpected_international_orders.to_csv('unexpected_international_orders.csv', index=False)\n"
   ]
  },
  {
   "cell_type": "code",
   "execution_count": 30,
   "id": "943c9dc2",
   "metadata": {},
   "outputs": [
    {
     "name": "stdout",
     "output_type": "stream",
     "text": [
      "Interpretation and Conclusion:\n",
      "Input value 1: Address Mismatch Cases\n",
      "Number of cases where the shipping address differs from the billing address: 1944\n",
      "Input value 2: Multiple Item Orders\n",
      "Number of orders containing the same item more than once: 2195\n",
      "Input value 3: Unusually Large Orders\n",
      "Number of unusually large orders (quantity > threshold): 22\n",
      "Threshold used for unusually large orders (99th percentile): 15.0\n",
      "Input value 4: Multiple Payment Orders\n",
      "Number of cases with multiple orders to the same address but different payment methods: 424\n",
      "Input value 5: Unexpected International Orders\n",
      "Number of unexpected international orders (shipping address not in expected countries): 2255\n",
      "\n",
      "Suggested Actions:\n",
      "\n",
      "End of EDA report.\n"
     ]
    }
   ],
   "source": [
    "#Step 4\n",
    "\n",
    "# Step 2: Perform Exploratory Data Analysis (EDA)\n",
    "# Code for input values (1 to 5) as mentioned in the previous responses\n",
    "\n",
    "# Step 3: Generate PDF and CSV files\n",
    "# Code for generating PDF and CSV files as mentioned in the previous responses\n",
    "\n",
    "# Step 4: Interpretation and Conclusion\n",
    "\n",
    "# Interpreting Findings and Drawing Conclusions\n",
    "print(\"Interpretation and Conclusion:\")\n",
    "\n",
    "# Input value 1: Address Mismatch Cases\n",
    "print(\"Input value 1: Address Mismatch Cases\")\n",
    "print(\"Number of cases where the shipping address differs from the billing address:\", len(address_mismatch_cases))\n",
    "\n",
    "# Input value 2: Multiple Item Orders\n",
    "print(\"Input value 2: Multiple Item Orders\")\n",
    "print(\"Number of orders containing the same item more than once:\", len(multiple_item_orders))\n",
    "\n",
    "# Input value 3: Unusually Large Orders\n",
    "print(\"Input value 3: Unusually Large Orders\")\n",
    "print(\"Number of unusually large orders (quantity > threshold):\", len(unusually_large_orders))\n",
    "print(\"Threshold used for unusually large orders (99th percentile):\", order_quantity_threshold)\n",
    "\n",
    "# Input value 4: Multiple Payment Orders\n",
    "print(\"Input value 4: Multiple Payment Orders\")\n",
    "print(\"Number of cases with multiple orders to the same address but different payment methods:\", len(multiple_payment_orders))\n",
    "\n",
    "# Input value 5: Unexpected International Orders\n",
    "print(\"Input value 5: Unexpected International Orders\")\n",
    "print(\"Number of unexpected international orders (shipping address not in expected countries):\", len(unexpected_international_orders))\n",
    "\n",
    "# Suggested Actions\n",
    "print(\"\\nSuggested Actions:\")\n",
    "\n",
    "# Based on the identified patterns, we can take the following actions:\n",
    "\n",
    "# For address mismatch cases, investigate the reasons for the discrepancies between shipping and billing addresses.\n",
    "# For multiple item orders, analyze the customer behavior and preferences related to purchasing the same item multiple times.\n",
    "# For unusually large orders, consider reaching out to customers for verification and fraud prevention.\n",
    "# For multiple payment orders, monitor and ensure that different payment methods are not being misused for fraudulent activities.\n",
    "# For unexpected international orders, implement additional verification steps for international shipments to prevent potential fraud.\n",
    "\n",
    "# Additionally, we can further analyze and segment the data to gain deeper insights and tailor our actions accordingly.\n",
    "\n",
    "# End of the EDA report\n",
    "print(\"\\nEnd of EDA report.\")\n"
   ]
  },
  {
   "cell_type": "code",
   "execution_count": null,
   "id": "21e3a8fe",
   "metadata": {},
   "outputs": [],
   "source": []
  }
 ],
 "metadata": {
  "kernelspec": {
   "display_name": "Python 3 (ipykernel)",
   "language": "python",
   "name": "python3"
  },
  "language_info": {
   "codemirror_mode": {
    "name": "ipython",
    "version": 3
   },
   "file_extension": ".py",
   "mimetype": "text/x-python",
   "name": "python",
   "nbconvert_exporter": "python",
   "pygments_lexer": "ipython3",
   "version": "3.9.12"
  }
 },
 "nbformat": 4,
 "nbformat_minor": 5
}
